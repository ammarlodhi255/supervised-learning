{
 "cells": [
  {
   "cell_type": "code",
   "execution_count": 1,
   "metadata": {},
   "outputs": [],
   "source": [
    "import numpy as np\n",
    "import matplotlib.pyplot as plt\n",
    "from gradient_descent import GradientDescentMultipleLR"
   ]
  },
  {
   "cell_type": "code",
   "execution_count": 2,
   "metadata": {},
   "outputs": [
    {
     "name": "stdout",
     "output_type": "stream",
     "text": [
      "X_train.shape = (99, 4)\n",
      "y_train.shape = (99,)\n"
     ]
    }
   ],
   "source": [
    "X_train = np.array([[1.24e+03, 3.00e+00, 1.00e+00, 6.40e+01],\n",
    "       [1.95e+03, 3.00e+00, 2.00e+00, 1.70e+01],\n",
    "       [1.72e+03, 3.00e+00, 2.00e+00, 4.20e+01],\n",
    "       [1.96e+03, 3.00e+00, 2.00e+00, 1.50e+01],\n",
    "       [1.31e+03, 2.00e+00, 1.00e+00, 1.40e+01],\n",
    "       [8.64e+02, 2.00e+00, 1.00e+00, 6.60e+01],\n",
    "       [1.84e+03, 3.00e+00, 1.00e+00, 1.70e+01],\n",
    "       [1.03e+03, 3.00e+00, 1.00e+00, 4.30e+01],\n",
    "       [3.19e+03, 4.00e+00, 2.00e+00, 8.70e+01],\n",
    "       [7.88e+02, 2.00e+00, 1.00e+00, 8.00e+01],\n",
    "       [1.20e+03, 2.00e+00, 2.00e+00, 1.70e+01],\n",
    "       [1.56e+03, 2.00e+00, 1.00e+00, 1.80e+01],\n",
    "       [1.43e+03, 3.00e+00, 1.00e+00, 2.00e+01],\n",
    "       [1.22e+03, 2.00e+00, 1.00e+00, 1.50e+01],\n",
    "       [1.09e+03, 2.00e+00, 1.00e+00, 6.40e+01],\n",
    "       [8.48e+02, 1.00e+00, 1.00e+00, 1.70e+01],\n",
    "       [1.68e+03, 3.00e+00, 2.00e+00, 2.30e+01],\n",
    "       [1.77e+03, 3.00e+00, 2.00e+00, 1.80e+01],\n",
    "       [1.04e+03, 3.00e+00, 1.00e+00, 4.40e+01],\n",
    "       [1.65e+03, 2.00e+00, 1.00e+00, 2.10e+01],\n",
    "       [1.09e+03, 2.00e+00, 1.00e+00, 3.50e+01],\n",
    "       [1.32e+03, 3.00e+00, 1.00e+00, 1.40e+01],\n",
    "       [1.59e+03, 0.00e+00, 1.00e+00, 2.00e+01],\n",
    "       [9.72e+02, 2.00e+00, 1.00e+00, 7.30e+01],\n",
    "       [1.10e+03, 3.00e+00, 1.00e+00, 3.70e+01],\n",
    "       [1.00e+03, 2.00e+00, 1.00e+00, 5.10e+01],\n",
    "       [9.04e+02, 3.00e+00, 1.00e+00, 5.50e+01],\n",
    "       [1.69e+03, 3.00e+00, 1.00e+00, 1.30e+01],\n",
    "       [1.07e+03, 2.00e+00, 1.00e+00, 1.00e+02],\n",
    "       [1.42e+03, 3.00e+00, 2.00e+00, 1.90e+01],\n",
    "       [1.16e+03, 3.00e+00, 1.00e+00, 5.20e+01],\n",
    "       [1.94e+03, 3.00e+00, 2.00e+00, 1.20e+01],\n",
    "       [1.22e+03, 2.00e+00, 2.00e+00, 7.40e+01],\n",
    "       [2.48e+03, 4.00e+00, 2.00e+00, 1.60e+01],\n",
    "       [1.20e+03, 2.00e+00, 1.00e+00, 1.80e+01],\n",
    "       [1.84e+03, 3.00e+00, 2.00e+00, 2.00e+01],\n",
    "       [1.85e+03, 3.00e+00, 2.00e+00, 5.70e+01],\n",
    "       [1.66e+03, 3.00e+00, 2.00e+00, 1.90e+01],\n",
    "       [1.10e+03, 2.00e+00, 2.00e+00, 9.70e+01],\n",
    "       [1.78e+03, 3.00e+00, 2.00e+00, 2.80e+01],\n",
    "       [2.03e+03, 4.00e+00, 2.00e+00, 4.50e+01],\n",
    "       [1.78e+03, 4.00e+00, 2.00e+00, 1.07e+02],\n",
    "       [1.07e+03, 2.00e+00, 1.00e+00, 1.00e+02],\n",
    "       [1.55e+03, 3.00e+00, 1.00e+00, 1.60e+01],\n",
    "       [1.95e+03, 3.00e+00, 2.00e+00, 1.60e+01],\n",
    "       [1.22e+03, 2.00e+00, 2.00e+00, 1.20e+01],\n",
    "       [1.62e+03, 3.00e+00, 1.00e+00, 1.60e+01],\n",
    "       [8.16e+02, 2.00e+00, 1.00e+00, 5.80e+01],\n",
    "       [1.35e+03, 3.00e+00, 1.00e+00, 2.10e+01],\n",
    "       [1.57e+03, 3.00e+00, 1.00e+00, 1.40e+01],\n",
    "       [1.49e+03, 3.00e+00, 1.00e+00, 5.70e+01],\n",
    "       [1.51e+03, 2.00e+00, 1.00e+00, 1.60e+01],\n",
    "       [1.10e+03, 3.00e+00, 1.00e+00, 2.70e+01],\n",
    "       [1.76e+03, 3.00e+00, 2.00e+00, 2.40e+01],\n",
    "       [1.21e+03, 2.00e+00, 1.00e+00, 1.40e+01],\n",
    "       [1.47e+03, 3.00e+00, 2.00e+00, 2.40e+01],\n",
    "       [1.77e+03, 3.00e+00, 2.00e+00, 8.40e+01],\n",
    "       [1.65e+03, 3.00e+00, 1.00e+00, 1.90e+01],\n",
    "       [1.03e+03, 3.00e+00, 1.00e+00, 6.00e+01],\n",
    "       [1.12e+03, 2.00e+00, 2.00e+00, 1.60e+01],\n",
    "       [1.15e+03, 3.00e+00, 1.00e+00, 6.20e+01],\n",
    "       [8.16e+02, 2.00e+00, 1.00e+00, 3.90e+01],\n",
    "       [1.04e+03, 3.00e+00, 1.00e+00, 2.50e+01],\n",
    "       [1.39e+03, 3.00e+00, 1.00e+00, 6.40e+01],\n",
    "       [1.60e+03, 3.00e+00, 2.00e+00, 2.90e+01],\n",
    "       [1.22e+03, 3.00e+00, 1.00e+00, 6.30e+01],\n",
    "       [1.07e+03, 2.00e+00, 1.00e+00, 1.00e+02],\n",
    "       [2.60e+03, 4.00e+00, 2.00e+00, 2.20e+01],\n",
    "       [1.43e+03, 3.00e+00, 1.00e+00, 5.90e+01],\n",
    "       [2.09e+03, 3.00e+00, 2.00e+00, 2.60e+01],\n",
    "       [1.79e+03, 4.00e+00, 2.00e+00, 4.90e+01],\n",
    "       [1.48e+03, 3.00e+00, 2.00e+00, 1.60e+01],\n",
    "       [1.04e+03, 3.00e+00, 1.00e+00, 2.50e+01],\n",
    "       [1.43e+03, 3.00e+00, 1.00e+00, 2.20e+01],\n",
    "       [1.16e+03, 3.00e+00, 1.00e+00, 5.30e+01],\n",
    "       [1.55e+03, 3.00e+00, 2.00e+00, 1.20e+01],\n",
    "       [1.98e+03, 3.00e+00, 2.00e+00, 2.20e+01],\n",
    "       [1.06e+03, 3.00e+00, 1.00e+00, 5.30e+01],\n",
    "       [1.18e+03, 2.00e+00, 1.00e+00, 9.90e+01],\n",
    "       [1.36e+03, 2.00e+00, 1.00e+00, 1.70e+01],\n",
    "       [9.60e+02, 3.00e+00, 1.00e+00, 5.10e+01],\n",
    "       [1.46e+03, 3.00e+00, 2.00e+00, 1.60e+01],\n",
    "       [1.45e+03, 3.00e+00, 2.00e+00, 2.50e+01],\n",
    "       [1.21e+03, 2.00e+00, 1.00e+00, 1.50e+01],\n",
    "       [1.55e+03, 3.00e+00, 2.00e+00, 1.60e+01],\n",
    "       [8.82e+02, 3.00e+00, 1.00e+00, 4.90e+01],\n",
    "       [2.03e+03, 4.00e+00, 2.00e+00, 4.50e+01],\n",
    "       [1.04e+03, 3.00e+00, 1.00e+00, 6.20e+01],\n",
    "       [1.62e+03, 3.00e+00, 1.00e+00, 1.60e+01],\n",
    "       [8.03e+02, 2.00e+00, 1.00e+00, 8.00e+01],\n",
    "       [1.43e+03, 3.00e+00, 2.00e+00, 2.10e+01],\n",
    "       [1.66e+03, 3.00e+00, 1.00e+00, 6.10e+01],\n",
    "       [1.54e+03, 3.00e+00, 1.00e+00, 1.60e+01],\n",
    "       [9.48e+02, 3.00e+00, 1.00e+00, 5.30e+01],\n",
    "       [1.22e+03, 2.00e+00, 2.00e+00, 1.20e+01],\n",
    "       [1.43e+03, 2.00e+00, 1.00e+00, 4.30e+01],\n",
    "       [1.66e+03, 3.00e+00, 2.00e+00, 1.90e+01],\n",
    "       [1.21e+03, 3.00e+00, 1.00e+00, 2.00e+01],\n",
    "       [1.05e+03, 2.00e+00, 1.00e+00, 6.50e+01]])\n",
    "\n",
    "y_train = np.array([300., 509.8, 394., 540., 415., 230., 560., 294.,\n",
    "                    718.2, 200., 302., 468., 374.2, 388., 282., 311.8,\n",
    "                    401., 449.8, 301., 502., 340., 400.28, 572., 264.,\n",
    "                    304., 298., 219.8, 490.7, 216.96, 368.2, 280., 526.87,\n",
    "                    237., 562.43, 369.8, 460., 374., 390., 158., 426.,\n",
    "                    390., 277.77, 216.96, 425.8, 504., 329., 464., 220.,\n",
    "                    358., 478., 334., 426.98, 290., 463., 390.8, 354.,\n",
    "                    350., 460., 237., 288.3, 282., 249., 304., 332.,\n",
    "                    351.8, 310., 216.96, 666.34, 330., 480., 330.3, 348.,\n",
    "                    304., 384., 316., 430.4, 450., 284., 275., 414.,\n",
    "                    258., 378., 350., 412., 373., 225., 390., 267.4,\n",
    "                    464., 174., 340., 430., 440., 216., 329., 388.,\n",
    "                    390., 356., 257.8])\n",
    "X_features = ['Size (sqft)', 'Bedrooms', 'Floors', 'Age (years)']\n",
    "print(f'X_train.shape = {X_train.shape}')\n",
    "print(f'y_train.shape = {y_train.shape}')"
   ]
  },
  {
   "cell_type": "code",
   "execution_count": 3,
   "metadata": {},
   "outputs": [
    {
     "data": {
      "image/png": "[encoded data removed]",
      "text/plain": [
       "<Figure size 864x216 with 4 Axes>"
      ]
     },
     "metadata": {
      "needs_background": "light"
     },
     "output_type": "display_data"
    }
   ],
   "source": [
    "'''\n",
    "Plotting each feature vs. the target price. These plots provide indication which features have the strongest \n",
    "influence on the price. It seems, increasing size also increases price. Bedrooms and floors don't seem to have \n",
    "a strong impact on price. Newer houses have higher prices than older houses.\n",
    "'''\n",
    "\n",
    "fig, ax = plt.subplots(1, 4, figsize=(12, 3), sharey=True)\n",
    "for i in range(len(ax)):\n",
    "    ax[i].scatter(X_train[:, i], y_train)\n",
    "    ax[i].set_xlabel(X_features[i])\n",
    "ax[0].set_ylabel('Price ($1000)')\n",
    "plt.show()"
   ]
  },
  {
   "cell_type": "code",
   "execution_count": 4,
   "metadata": {},
   "outputs": [
    {
     "name": "stdout",
     "output_type": "stream",
     "text": [
      "Initial Cost = 97969.12170898619\n"
     ]
    },
    {
     "ename": "ValueError",
     "evalue": "Length of values (10) does not match length of index (7)",
     "output_type": "error",
     "traceback": [
      "\u001b[1;31m---------------------------------------------------------------------------\u001b[0m",
      "\u001b[1;31mValueError\u001b[0m                                Traceback (most recent call last)",
      "\u001b[1;32md:\\Projects and Code Files\\Visual code\\supervised-learning\\regression\\feature_scaling_multiple_features.ipynb Cell 4\u001b[0m in \u001b[0;36m<cell line: 5>\u001b[1;34m()\u001b[0m\n\u001b[0;32m      <a href='vscode-notebook-cell:/d%3A/Projects%20and%20Code%20Files/Visual%20code/supervised-learning/regression/feature_scaling_multiple_features.ipynb#W3sZmlsZQ%3D%3D?line=2'>3</a>\u001b[0m b0 \u001b[39m=\u001b[39m \u001b[39m3.6e-04\u001b[39m\n\u001b[0;32m      <a href='vscode-notebook-cell:/d%3A/Projects%20and%20Code%20Files/Visual%20code/supervised-learning/regression/feature_scaling_multiple_features.ipynb#W3sZmlsZQ%3D%3D?line=3'>4</a>\u001b[0m gd \u001b[39m=\u001b[39m GradientDescentMultipleLR(X_train, y_train, lr)\n\u001b[1;32m----> <a href='vscode-notebook-cell:/d%3A/Projects%20and%20Code%20Files/Visual%20code/supervised-learning/regression/feature_scaling_multiple_features.ipynb#W3sZmlsZQ%3D%3D?line=4'>5</a>\u001b[0m gd\u001b[39m.\u001b[39;49mrun(w0, b0, \u001b[39m10\u001b[39;49m)\n",
      "File \u001b[1;32md:\\Projects and Code Files\\Visual code\\supervised-learning\\regression\\gradient_descent.py:77\u001b[0m, in \u001b[0;36mGradientDescentMultipleLR.run\u001b[1;34m(self, w, b, iter)\u001b[0m\n\u001b[0;32m     74\u001b[0m     w, b, dj_dw[i], dj_db[i] \u001b[39m=\u001b[39m \u001b[39mself\u001b[39m\u001b[39m.\u001b[39mupdate_weights(w, b)\n\u001b[0;32m     75\u001b[0m     costs[i] \u001b[39m=\u001b[39m \u001b[39mself\u001b[39m\u001b[39m.\u001b[39mcost(w, b)\n\u001b[1;32m---> 77\u001b[0m \u001b[39mprint\u001b[39m(\u001b[39mself\u001b[39;49m\u001b[39m.\u001b[39;49mcreate_dataframe(np\u001b[39m.\u001b[39;49marange(\u001b[39miter\u001b[39;49m), costs, dj_dw, dj_db))\n\u001b[0;32m     78\u001b[0m \u001b[39mreturn\u001b[39;00m w, b, costs\n",
      "File \u001b[1;32md:\\Projects and Code Files\\Visual code\\supervised-learning\\regression\\gradient_descent.py:60\u001b[0m, in \u001b[0;36mGradientDescentMultipleLR.create_dataframe\u001b[1;34m(self, iteration, costs, djw, djb)\u001b[0m\n\u001b[0;32m     57\u001b[0m     columns\u001b[39m.\u001b[39mappend(\u001b[39mf\u001b[39m\u001b[39m'\u001b[39m\u001b[39mdj_dw\u001b[39m\u001b[39m{\u001b[39;00mi\u001b[39m}\u001b[39;00m\u001b[39m'\u001b[39m)\n\u001b[0;32m     58\u001b[0m columns\u001b[39m.\u001b[39mappend(\u001b[39m'\u001b[39m\u001b[39mdj_db\u001b[39m\u001b[39m'\u001b[39m)\n\u001b[1;32m---> 60\u001b[0m df \u001b[39m=\u001b[39m pd\u001b[39m.\u001b[39;49mDataFrame(\n\u001b[0;32m     61\u001b[0m     data, columns)\n\u001b[0;32m     62\u001b[0m \u001b[39mreturn\u001b[39;00m df\n",
      "File \u001b[1;32mc:\\Users\\Ammar\\AppData\\Local\\Programs\\Python\\Python310\\lib\\site-packages\\pandas\\core\\frame.py:729\u001b[0m, in \u001b[0;36mDataFrame.__init__\u001b[1;34m(self, data, index, columns, dtype, copy)\u001b[0m\n\u001b[0;32m    720\u001b[0m         columns \u001b[39m=\u001b[39m ensure_index(columns)  \u001b[39m# type: ignore[arg-type]\u001b[39;00m\n\u001b[0;32m    721\u001b[0m     arrays, columns, index \u001b[39m=\u001b[39m nested_data_to_arrays(\n\u001b[0;32m    722\u001b[0m         \u001b[39m# error: Argument 3 to \"nested_data_to_arrays\" has incompatible\u001b[39;00m\n\u001b[0;32m    723\u001b[0m         \u001b[39m# type \"Optional[Collection[Any]]\"; expected \"Optional[Index]\"\u001b[39;00m\n\u001b[1;32m   (...)\u001b[0m\n\u001b[0;32m    727\u001b[0m         dtype,\n\u001b[0;32m    728\u001b[0m     )\n\u001b[1;32m--> 729\u001b[0m     mgr \u001b[39m=\u001b[39m arrays_to_mgr(\n\u001b[0;32m    730\u001b[0m         arrays,\n\u001b[0;32m    731\u001b[0m         columns,\n\u001b[0;32m    732\u001b[0m         index,\n\u001b[0;32m    733\u001b[0m         dtype\u001b[39m=\u001b[39;49mdtype,\n\u001b[0;32m    734\u001b[0m         typ\u001b[39m=\u001b[39;49mmanager,\n\u001b[0;32m    735\u001b[0m     )\n\u001b[0;32m    736\u001b[0m \u001b[39melse\u001b[39;00m:\n\u001b[0;32m    737\u001b[0m     mgr \u001b[39m=\u001b[39m ndarray_to_mgr(\n\u001b[0;32m    738\u001b[0m         data,\n\u001b[0;32m    739\u001b[0m         index,\n\u001b[1;32m   (...)\u001b[0m\n\u001b[0;32m    743\u001b[0m         typ\u001b[39m=\u001b[39mmanager,\n\u001b[0;32m    744\u001b[0m     )\n",
      "File \u001b[1;32mc:\\Users\\Ammar\\AppData\\Local\\Programs\\Python\\Python310\\lib\\site-packages\\pandas\\core\\internals\\construction.py:125\u001b[0m, in \u001b[0;36marrays_to_mgr\u001b[1;34m(arrays, columns, index, dtype, verify_integrity, typ, consolidate)\u001b[0m\n\u001b[0;32m    122\u001b[0m         index \u001b[39m=\u001b[39m ensure_index(index)\n\u001b[0;32m    124\u001b[0m     \u001b[39m# don't force copy because getting jammed in an ndarray anyway\u001b[39;00m\n\u001b[1;32m--> 125\u001b[0m     arrays \u001b[39m=\u001b[39m _homogenize(arrays, index, dtype)\n\u001b[0;32m    126\u001b[0m     \u001b[39m# _homogenize ensures\u001b[39;00m\n\u001b[0;32m    127\u001b[0m     \u001b[39m#  - all(len(x) == len(index) for x in arrays)\u001b[39;00m\n\u001b[0;32m    128\u001b[0m     \u001b[39m#  - all(x.ndim == 1 for x in arrays)\u001b[39;00m\n\u001b[1;32m   (...)\u001b[0m\n\u001b[0;32m    131\u001b[0m \n\u001b[0;32m    132\u001b[0m \u001b[39melse\u001b[39;00m:\n\u001b[0;32m    133\u001b[0m     index \u001b[39m=\u001b[39m ensure_index(index)\n",
      "File \u001b[1;32mc:\\Users\\Ammar\\AppData\\Local\\Programs\\Python\\Python310\\lib\\site-packages\\pandas\\core\\internals\\construction.py:628\u001b[0m, in \u001b[0;36m_homogenize\u001b[1;34m(data, index, dtype)\u001b[0m\n\u001b[0;32m    623\u001b[0m             val \u001b[39m=\u001b[39m lib\u001b[39m.\u001b[39mfast_multiget(val, oindex\u001b[39m.\u001b[39m_values, default\u001b[39m=\u001b[39mnp\u001b[39m.\u001b[39mnan)\n\u001b[0;32m    625\u001b[0m         val \u001b[39m=\u001b[39m sanitize_array(\n\u001b[0;32m    626\u001b[0m             val, index, dtype\u001b[39m=\u001b[39mdtype, copy\u001b[39m=\u001b[39m\u001b[39mFalse\u001b[39;00m, raise_cast_failure\u001b[39m=\u001b[39m\u001b[39mFalse\u001b[39;00m\n\u001b[0;32m    627\u001b[0m         )\n\u001b[1;32m--> 628\u001b[0m         com\u001b[39m.\u001b[39;49mrequire_length_match(val, index)\n\u001b[0;32m    630\u001b[0m     homogenized\u001b[39m.\u001b[39mappend(val)\n\u001b[0;32m    632\u001b[0m \u001b[39mreturn\u001b[39;00m homogenized\n",
      "File \u001b[1;32mc:\\Users\\Ammar\\AppData\\Local\\Programs\\Python\\Python310\\lib\\site-packages\\pandas\\core\\common.py:557\u001b[0m, in \u001b[0;36mrequire_length_match\u001b[1;34m(data, index)\u001b[0m\n\u001b[0;32m    553\u001b[0m \u001b[39m\"\"\"\u001b[39;00m\n\u001b[0;32m    554\u001b[0m \u001b[39mCheck the length of data matches the length of the index.\u001b[39;00m\n\u001b[0;32m    555\u001b[0m \u001b[39m\"\"\"\u001b[39;00m\n\u001b[0;32m    556\u001b[0m \u001b[39mif\u001b[39;00m \u001b[39mlen\u001b[39m(data) \u001b[39m!=\u001b[39m \u001b[39mlen\u001b[39m(index):\n\u001b[1;32m--> 557\u001b[0m     \u001b[39mraise\u001b[39;00m \u001b[39mValueError\u001b[39;00m(\n\u001b[0;32m    558\u001b[0m         \u001b[39m\"\u001b[39m\u001b[39mLength of values \u001b[39m\u001b[39m\"\u001b[39m\n\u001b[0;32m    559\u001b[0m         \u001b[39mf\u001b[39m\u001b[39m\"\u001b[39m\u001b[39m(\u001b[39m\u001b[39m{\u001b[39;00m\u001b[39mlen\u001b[39m(data)\u001b[39m}\u001b[39;00m\u001b[39m) \u001b[39m\u001b[39m\"\u001b[39m\n\u001b[0;32m    560\u001b[0m         \u001b[39m\"\u001b[39m\u001b[39mdoes not match length of index \u001b[39m\u001b[39m\"\u001b[39m\n\u001b[0;32m    561\u001b[0m         \u001b[39mf\u001b[39m\u001b[39m\"\u001b[39m\u001b[39m(\u001b[39m\u001b[39m{\u001b[39;00m\u001b[39mlen\u001b[39m(index)\u001b[39m}\u001b[39;00m\u001b[39m)\u001b[39m\u001b[39m\"\u001b[39m\n\u001b[0;32m    562\u001b[0m     )\n",
      "\u001b[1;31mValueError\u001b[0m: Length of values (10) does not match length of index (7)"
     ]
    }
   ],
   "source": [
    "lr = 9.9e-7\n",
    "w0 = np.array([5.5e-01,  1.0e-03,  5.1e-04,  1.2e-02])\n",
    "b0 = 3.6e-04\n",
    "gd = GradientDescentMultipleLR(X_train, y_train, lr)\n",
    "gd.run(w0, b0, 10)"
   ]
  },
  {
   "cell_type": "code",
   "execution_count": null,
   "metadata": {},
   "outputs": [
    {
     "data": {
      "text/plain": [
       "array([23, 21,  1,  2,  3, 34])"
      ]
     },
     "execution_count": 6,
     "metadata": {},
     "output_type": "execute_result"
    }
   ],
   "source": [
    "import numpy as np\n",
    "\n",
    "Nums = np.array([1, 2, 3])\n",
    "Total = np.array([23, 21, 34])\n",
    "\n",
    "Total = np.concatenate([Total[:2], Nums, Total[-1:]])\n",
    "Total"
   ]
  },
  {
   "cell_type": "code",
   "execution_count": null,
   "metadata": {},
   "outputs": [],
   "source": []
  }
 ],
 "metadata": {
  "kernelspec": {
   "display_name": "Python 3.10.5 64-bit",
   "language": "python",
   "name": "python3"
  },
  "language_info": {
   "codemirror_mode": {
    "name": "ipython",
    "version": 3
   },
   "file_extension": ".py",
   "mimetype": "text/x-python",
   "name": "python",
   "nbconvert_exporter": "python",
   "pygments_lexer": "ipython3",
   "version": "3.10.5"
  },
  "orig_nbformat": 4,
  "vscode": {
   "interpreter": {
    "hash": "7c2737f5cd3eb6a237b7123ce75c641d6f975db18b0c0702ad2055474d78171c"
   }
  }
 },
 "nbformat": 4,
 "nbformat_minor": 2
}
