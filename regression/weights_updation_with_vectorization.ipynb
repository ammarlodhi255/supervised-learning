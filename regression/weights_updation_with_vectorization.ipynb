{
 "cells": [
  {
   "cell_type": "code",
   "execution_count": 20,
   "metadata": {},
   "outputs": [
    {
     "name": "stdout",
     "output_type": "stream",
     "text": [
      "X.shape = (100000000,)\n",
      "W.shape = (100000000,)\n"
     ]
    }
   ],
   "source": [
    "import numpy as np\n",
    "import time \n",
    "\n",
    "X = np.random.rand(100000000)\n",
    "w = np.random.rand(100000000)\n",
    "\n",
    "print(f'X.shape = {X.shape}\\nW.shape = {w.shape}')"
   ]
  },
  {
   "cell_type": "code",
   "execution_count": 21,
   "metadata": {},
   "outputs": [
    {
     "name": "stdout",
     "output_type": "stream",
     "text": [
      "weights updated using vectorization, completion time: 1055.3946 ms\n",
      "weights updated using a loop, completion time: 69560.173 ms\n"
     ]
    }
   ],
   "source": [
    "# Define some random numbers for the derivatives\n",
    "derivatives = np.random.rand(100000000)\n",
    "learning_rate = 0.1\n",
    "\n",
    "# update the weights:\n",
    "start = time.time()\n",
    "w = w - learning_rate * derivatives\n",
    "stop = time.time()\n",
    "\n",
    "print(f'weights updated using vectorization, completion time: {1000 * (stop - start):.4f} ms')\n",
    "\n",
    "start = time.time()\n",
    "for i in range(len(w)):\n",
    "    w[i] = w[i] - learning_rate * derivatives[i]\n",
    "stop = time.time()\n",
    "\n",
    "print(f'weights updated using a loop, completion time: {1000 * (stop - start):.3f} ms')\n",
    "\n",
    "del X\n",
    "del w\n",
    "del derivatives"
   ]
  }
 ],
 "metadata": {
  "kernelspec": {
   "display_name": "Python 3.10.5 64-bit",
   "language": "python",
   "name": "python3"
  },
  "language_info": {
   "codemirror_mode": {
    "name": "ipython",
    "version": 3
   },
   "file_extension": ".py",
   "mimetype": "text/x-python",
   "name": "python",
   "nbconvert_exporter": "python",
   "pygments_lexer": "ipython3",
   "version": "3.10.5"
  },
  "orig_nbformat": 4,
  "vscode": {
   "interpreter": {
    "hash": "7c2737f5cd3eb6a237b7123ce75c641d6f975db18b0c0702ad2055474d78171c"
   }
  }
 },
 "nbformat": 4,
 "nbformat_minor": 2
}
