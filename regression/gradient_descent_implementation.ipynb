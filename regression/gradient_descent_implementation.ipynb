{
 "cells": [
  {
   "cell_type": "code",
   "execution_count": 1,
   "metadata": {},
   "outputs": [],
   "source": [
    "import numpy as np\n",
    "import matplotlib.pyplot as plt\n",
    "plt.style.use('./deeplearning.mplstyle')"
   ]
  },
  {
   "cell_type": "code",
   "execution_count": 2,
   "metadata": {},
   "outputs": [],
   "source": [
    "# Using the same housing data\n",
    "\n",
    "X_train = np.array([1.0, 2.0])\n",
    "y_train = np.array([300.0, 500.0])"
   ]
  },
  {
   "cell_type": "code",
   "execution_count": 3,
   "metadata": {},
   "outputs": [],
   "source": [
    "# Model representation\n",
    "\n",
    "def f(x, w, b):\n",
    "    return w * x + b\n",
    "\n",
    "# Compute output prediction for each input sample, given some choice for w & b\n",
    "def compute_model_output(X, w, b):\n",
    "    m = X.shape[0]\n",
    "    f_wb = np.zeros(m)\n",
    "\n",
    "    for i in range(m):\n",
    "        f_wb[i] = f(X[i], w, b)\n",
    "    \n",
    "    return f_wb"
   ]
  },
  {
   "cell_type": "code",
   "execution_count": null,
   "metadata": {},
   "outputs": [],
   "source": [
    "lr = 0.1\n",
    "\n",
    "def compute_cost(X, y, w, b):\n",
    "    m = X.shape[0]\n",
    "    cost = (compute_model_output(X, w, b) - y)\n",
    "    cost_sum = np.sum(cost**2)\n",
    "    return (1 / (2 * m)) * cost_sum\n",
    "\n",
    "def cost_derivative_w():\n",
    "    m = X.shape[0]\n",
    "    cost = (compute_model_output(X, w, b) - y)\n",
    "    dj_dw = np.sum(cost * X_train)\n",
    "    dj_dw = dj_dw * (1 / m)\n",
    "    return dj_dw\n",
    "\n",
    "def cost_derivative_b():\n",
    "    m = X.shape[0]\n",
    "    cost = (compute_model_output(X, w, b) - y)\n",
    "    dj_db = np.sum(cost)\n",
    "    dj_db = dj_db * (1 / m)\n",
    "    return dj_db\n",
    "\n",
    "def update_weights():\n",
    "    tmp_w = w - lr * cost_derivative_w()\n",
    "    tmp_b = b - lr * cost_derivative_b()\n",
    "    w = tmp_w\n",
    "    b = tmp_b"
   ]
  }
 ],
 "metadata": {
  "kernelspec": {
   "display_name": "Python 3.10.5 64-bit",
   "language": "python",
   "name": "python3"
  },
  "language_info": {
   "codemirror_mode": {
    "name": "ipython",
    "version": 3
   },
   "file_extension": ".py",
   "mimetype": "text/x-python",
   "name": "python",
   "nbconvert_exporter": "python",
   "pygments_lexer": "ipython3",
   "version": "3.10.5"
  },
  "orig_nbformat": 4,
  "vscode": {
   "interpreter": {
    "hash": "7c2737f5cd3eb6a237b7123ce75c641d6f975db18b0c0702ad2055474d78171c"
   }
  }
 },
 "nbformat": 4,
 "nbformat_minor": 2
}
