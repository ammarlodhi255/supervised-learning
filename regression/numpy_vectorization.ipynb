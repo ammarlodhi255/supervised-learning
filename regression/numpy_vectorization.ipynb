{
 "cells": [
  {
   "cell_type": "code",
   "execution_count": 1,
   "metadata": {},
   "outputs": [],
   "source": [
    "import numpy as np\n",
    "import time "
   ]
  },
  {
   "cell_type": "code",
   "execution_count": 7,
   "metadata": {},
   "outputs": [
    {
     "name": "stdout",
     "output_type": "stream",
     "text": [
      "a = [0. 0. 0. 0.], shape = (4,), type = float64\n",
      "b1 = [0. 0. 0. 0.], shape = (4,), type = float64\n",
      "b2 = [[0. 0.]\n",
      " [0. 0.]\n",
      " [0. 0.]\n",
      " [0. 0.]], shape = (4, 2), type = float64\n",
      "c = [0.71487835 0.39734168 0.50267041 0.32829536], shape = (4,), type = float64\n"
     ]
    }
   ],
   "source": [
    "# NumPy will generally have data creation routines that have first parameter as a shape of the object\n",
    "a = np.zeros(4)\n",
    "b1 = np.zeros((4,))\n",
    "b2 = np.zeros((4,2))\n",
    "c = np.random.random_sample(4)\n",
    "\n",
    "print(f'a = {a}, shape = {a.shape}, type = {a.dtype}')\n",
    "print(f'b1 = {b1}, shape = {b1.shape}, type = {b1.dtype}')\n",
    "print(f'b2 = {b2}, shape = {b2.shape}, type = {b2.dtype}')\n",
    "print(f'c = {c}, shape = {c.shape}, type = {c.dtype}')"
   ]
  },
  {
   "cell_type": "code",
   "execution_count": 8,
   "metadata": {},
   "outputs": [
    {
     "name": "stdout",
     "output_type": "stream",
     "text": [
      "d = [0. 1. 2. 3. 4. 5. 6. 7. 8. 9.], shape = (10,), type = float64\n",
      "e = [0.60266018 0.82481809 0.71012377 0.15102042], shape = (4,), type = float64\n"
     ]
    }
   ],
   "source": [
    "# Following data creation routines of NumPy do not accept shape as a first argument\n",
    "d = np.arange(10.)\n",
    "e = np.random.rand(4)\n",
    "print(f'd = {d}, shape = {d.shape}, type = {d.dtype}')\n",
    "print(f'e = {e}, shape = {e.shape}, type = {e.dtype}')"
   ]
  },
  {
   "cell_type": "code",
   "execution_count": 9,
   "metadata": {},
   "outputs": [
    {
     "name": "stdout",
     "output_type": "stream",
     "text": [
      "values1 = [1 2 3 4], shape = (4,), type = int32\n",
      "values2 = [1. 2. 3. 4.], shape = (4,), type = float64\n"
     ]
    }
   ],
   "source": [
    "# Allocate memory with user specified values:\n",
    "values1 = np.array([1, 2, 3, 4])\n",
    "values2 = np.array([1., 2., 3., 4.])\n",
    "\n",
    "print(f'values1 = {values1}, shape = {values1.shape}, type = {values1.dtype}')\n",
    "print(f'values2 = {values2}, shape = {values2.shape}, type = {values2.dtype}')"
   ]
  },
  {
   "cell_type": "code",
   "execution_count": 15,
   "metadata": {},
   "outputs": [
    {
     "name": "stdout",
     "output_type": "stream",
     "text": [
      "a = [0 1 2 3 4 5 6 7 8 9]\n",
      "a[1, 6, 1] = [1 2 3 4 5]\n",
      "a[1:8:2] = [1 3 5 7]\n",
      "a[2:] = [2 3 4 5 6 7 8 9]\n",
      "a[:3] = [0 1 2]\n",
      "a[:] = [0 1 2 3 4 5 6 7 8 9]\n"
     ]
    }
   ],
   "source": [
    "# Slicing operations with NumPy arrays\n",
    "a = np.arange(10)\n",
    "print(f'a = {a}')\n",
    "\n",
    "b = a[1:6:1]\n",
    "print(f'a[1, 6, 1] = {b}')\n",
    "\n",
    "c = a[1:8:2]\n",
    "print(f'a[1:8:2] = {c}')\n",
    "\n",
    "d = a[2:]\n",
    "print(f'a[2:] = {d}')\n",
    "\n",
    "e = a[:3]\n",
    "print(f'a[:3] = {e}')\n",
    "\n",
    "f = a[:]\n",
    "print(f'a[:] = {f}')"
   ]
  },
  {
   "cell_type": "code",
   "execution_count": 16,
   "metadata": {},
   "outputs": [
    {
     "name": "stdout",
     "output_type": "stream",
     "text": [
      "a             : [1 2 3 4]\n",
      "b = -a        : [-1 -2 -3 -4]\n",
      "b = np.sum(a) : 10\n",
      "b = np.mean(a): 2.5\n",
      "b = a**2      : [ 1  4  9 16]\n"
     ]
    }
   ],
   "source": [
    "# Single vectors operations\n",
    "\n",
    "a = np.array([1, 2, 3, 4])\n",
    "print(f\"a             : {a}\")\n",
    "# negate elements of a\n",
    "b = -a\n",
    "print(f\"b = -a        : {b}\")\n",
    "\n",
    "# sum all elements of a, returns a scalar\n",
    "b = np.sum(a)\n",
    "print(f\"b = np.sum(a) : {b}\")\n",
    "\n",
    "b = np.mean(a)\n",
    "print(f\"b = np.mean(a): {b}\")\n",
    "\n",
    "b = a**2\n",
    "print(f\"b = a**2      : {b}\")"
   ]
  },
  {
   "cell_type": "code",
   "execution_count": 17,
   "metadata": {},
   "outputs": [
    {
     "name": "stdout",
     "output_type": "stream",
     "text": [
      "Binary operators work element wise: [0 0 6 8]\n",
      "The error message you'll see is:\n",
      "operands could not be broadcast together with shapes (4,) (2,) \n"
     ]
    }
   ],
   "source": [
    "# Element wise operations\n",
    "\n",
    "a = np.array([1, 2, 3, 4])\n",
    "b = np.array([-1, -2, 3, 4])\n",
    "print(f\"Binary operators work element wise: {a + b}\")\n",
    "\n",
    "#try a mismatched vector operation\n",
    "c = np.array([1, 2])\n",
    "try:\n",
    "    d = a + c\n",
    "except Exception as e:\n",
    "    print(\"The error message you'll see is:\")\n",
    "    print(e)"
   ]
  },
  {
   "cell_type": "markdown",
   "metadata": {},
   "source": [
    "<img src=\"./images/C1_W2_Lab04_dot_notrans.gif\" width=800> "
   ]
  },
  {
   "cell_type": "markdown",
   "metadata": {},
   "source": [
    "The dot product is a mainstay of Linear Algebra and NumPy. The dot product multiplies the values in two vectors element-wise and then sums the result. Vector dot product requires the dimensions of the two vectors to be the same. \n",
    "\n",
    "Let's implement our own version of the dot product below:\n",
    "\n",
    "**Using a for loop**, implement a function which returns the dot product of two vectors. The function to return given inputs $a$ and $b$:\n",
    "$$ x = \\sum_{i=0}^{n-1} a_i b_i $$\n",
    "Assume both `a` and `b` are the same shape."
   ]
  },
  {
   "cell_type": "code",
   "execution_count": 18,
   "metadata": {},
   "outputs": [
    {
     "name": "stdout",
     "output_type": "stream",
     "text": [
      "X dot Y = 20\n"
     ]
    }
   ],
   "source": [
    "def dot_product(X, Y):\n",
    "    result = 0\n",
    "    rank = X.shape[0]\n",
    "\n",
    "    for i in range(rank):\n",
    "        result += X[i] * Y[i]\n",
    "\n",
    "    return result\n",
    "\n",
    "X = np.array([2, 3, 4, 1])\n",
    "y = np.array([4, -1, 2, 7])\n",
    "\n",
    "dot_prod = dot_product(X, y)\n",
    "\n",
    "print(f'X dot Y = {dot_prod}')"
   ]
  }
 ],
 "metadata": {
  "kernelspec": {
   "display_name": "Python 3.10.5 64-bit",
   "language": "python",
   "name": "python3"
  },
  "language_info": {
   "codemirror_mode": {
    "name": "ipython",
    "version": 3
   },
   "file_extension": ".py",
   "mimetype": "text/x-python",
   "name": "python",
   "nbconvert_exporter": "python",
   "pygments_lexer": "ipython3",
   "version": "3.10.5"
  },
  "orig_nbformat": 4,
  "vscode": {
   "interpreter": {
    "hash": "7c2737f5cd3eb6a237b7123ce75c641d6f975db18b0c0702ad2055474d78171c"
   }
  }
 },
 "nbformat": 4,
 "nbformat_minor": 2
}
