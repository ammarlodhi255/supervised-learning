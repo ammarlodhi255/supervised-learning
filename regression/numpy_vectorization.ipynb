{
 "cells": [
  {
   "cell_type": "code",
   "execution_count": 1,
   "metadata": {},
   "outputs": [],
   "source": [
    "import numpy as np\n",
    "import time "
   ]
  },
  {
   "cell_type": "code",
   "execution_count": 5,
   "metadata": {},
   "outputs": [
    {
     "name": "stdout",
     "output_type": "stream",
     "text": [
      "a = [0. 0. 0. 0.], shape = (4,), type = float64\n",
      "b1 = [0. 0. 0. 0.], shape = (4,), type = float64\n",
      "b2 = [[0. 0.]\n",
      " [0. 0.]\n",
      " [0. 0.]\n",
      " [0. 0.]], shape = (4, 2), type = float64\n",
      "c = [0.37155111 0.78847244 0.77525029 0.04904001], shape = (4,), type = float64\n",
      "d = [1 2 3 4 5 6 7 8 9], shape = (9,), type = int32\n"
     ]
    }
   ],
   "source": [
    "# NumPy will generally have data creation routines that have first parameter as a shape of the object\n",
    "a = np.zeros(4)\n",
    "b1 = np.zeros((4,))\n",
    "b2 = np.zeros((4,2))\n",
    "c = np.random.random_sample(4)\n",
    "d = np.arange(1, 10)\n",
    "\n",
    "print(f'a = {a}, shape = {a.shape}, type = {a.dtype}')\n",
    "print(f'b1 = {b1}, shape = {b1.shape}, type = {b1.dtype}')\n",
    "print(f'b2 = {b2}, shape = {b2.shape}, type = {b2.dtype}')\n",
    "print(f'c = {c}, shape = {c.shape}, type = {c.dtype}')\n",
    "print(f'd = {d}, shape = {d.shape}, type = {d.dtype}')"
   ]
  },
  {
   "cell_type": "code",
   "execution_count": null,
   "metadata": {},
   "outputs": [],
   "source": []
  }
 ],
 "metadata": {
  "kernelspec": {
   "display_name": "Python 3.10.5 64-bit",
   "language": "python",
   "name": "python3"
  },
  "language_info": {
   "codemirror_mode": {
    "name": "ipython",
    "version": 3
   },
   "file_extension": ".py",
   "mimetype": "text/x-python",
   "name": "python",
   "nbconvert_exporter": "python",
   "pygments_lexer": "ipython3",
   "version": "3.10.5"
  },
  "orig_nbformat": 4,
  "vscode": {
   "interpreter": {
    "hash": "7c2737f5cd3eb6a237b7123ce75c641d6f975db18b0c0702ad2055474d78171c"
   }
  }
 },
 "nbformat": 4,
 "nbformat_minor": 2
}
