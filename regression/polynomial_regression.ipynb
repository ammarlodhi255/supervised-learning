{
 "cells": [
  {
   "cell_type": "code",
   "execution_count": 93,
   "metadata": {},
   "outputs": [],
   "source": [
    "import numpy as np\n",
    "import matplotlib.pyplot as plt\n",
    "np.set_printoptions(precision=2)  # reduced display precision on numpy arrays"
   ]
  },
  {
   "cell_type": "code",
   "execution_count": 94,
   "metadata": {},
   "outputs": [
    {
     "data": {
      "text/plain": [
       "<matplotlib.collections.PathCollection at 0x239fc726dd0>"
      ]
     },
     "execution_count": 94,
     "metadata": {},
     "output_type": "execute_result"
    },
    {
     "data": {
      "image/png": "[encoded data removed]",
      "text/plain": [
       "<Figure size 432x288 with 1 Axes>"
      ]
     },
     "metadata": {
      "needs_background": "light"
     },
     "output_type": "display_data"
    }
   ],
   "source": [
    "x = np.arange(0, 20, 1)\n",
    "y = 1 + x**2\n",
    "outputs = x**2\n",
    "plt.scatter(x, outputs, c='r')"
   ]
  },
  {
   "cell_type": "code",
   "execution_count": 95,
   "metadata": {},
   "outputs": [],
   "source": [
    "class GradientDescent():\n",
    "\n",
    "    def __init__(self, X, y, lr=0.015):\n",
    "        self.lr = lr\n",
    "        self.X = X\n",
    "        self.y = y\n",
    "        self.m = X.shape[0]\n",
    "\n",
    "    # Model representation\n",
    "    def f(self, x, w, b):\n",
    "        return w * x + b\n",
    "\n",
    "    # Compute output prediction for each input sample, given some choice for w & b\n",
    "\n",
    "    def compute_model_output(self, w, b):\n",
    "        f_wb = np.zeros(self.m)\n",
    "\n",
    "        for i in range(self.m):\n",
    "            f_wb[i] = self.f(self.X[i], w, b)\n",
    "\n",
    "        return f_wb\n",
    "\n",
    "\n",
    "    def compute_cost(self, w, b):\n",
    "        cost = self.compute_model_output(w, b) - self.y\n",
    "        cost_sum = np.sum(cost**2)\n",
    "        return (1 / (2 * self.m)) * cost_sum\n",
    "\n",
    "\n",
    "    def cost_derivative_w(self, w, b):\n",
    "        cost = self.compute_model_output(w, b) - self.y\n",
    "        dj_dw = 0\n",
    "        for i in range(self.X.shape[0]):\n",
    "            dj_dw += cost[i] * self.X[i]\n",
    "        dj_dw = dj_dw * (1 / self.m)\n",
    "        return dj_dw\n",
    "\n",
    "\n",
    "    def cost_derivative_b(self, w, b):\n",
    "        cost = self.compute_model_output(w, b) - self.y\n",
    "        dj_db = np.sum(cost)\n",
    "        dj_db = dj_db * (1 / self.m)\n",
    "        return dj_db\n",
    "\n",
    "\n",
    "    def update_weights(self, w, b):\n",
    "        tmp_w = w - self.lr * self.cost_derivative_w(w, b)\n",
    "        tmp_b = b - self.lr * self.cost_derivative_b(w, b)\n",
    "        w = tmp_w\n",
    "        b = tmp_b\n",
    "\n",
    "        return w, b\n",
    "\n",
    "\n",
    "    def run(self, w, b, iter):\n",
    "        cost = self.compute_cost(w, b)\n",
    "\n",
    "        for i in range(iter):\n",
    "            print(f'Current cost = {cost}')\n",
    "            w, b = self.update_weights(w, b)\n",
    "            cost = self.compute_cost(w, b)\n",
    "            \n",
    "        print(f'\\nFinal cost = {cost}')\n",
    "        return w, b"
   ]
  },
  {
   "cell_type": "code",
   "execution_count": 96,
   "metadata": {},
   "outputs": [
    {
     "name": "stdout",
     "output_type": "stream",
     "text": [
      "Current cost = 7873.400000000001\n",
      "Current cost = 6367.1657609375\n",
      "Current cost = 5241.0215693053005\n",
      "Current cost = 4398.299880120761\n",
      "Current cost = 3766.9245026815315\n",
      "Current cost = 3293.1547323308587\n",
      "Current cost = 2936.920931662544\n",
      "Current cost = 2668.346707475542\n",
      "Current cost = 2465.155821756708\n",
      "Current cost = 2310.738766496553\n",
      "Current cost = 2192.711188438251\n",
      "Current cost = 2101.839040551238\n",
      "Current cost = 2031.237167496496\n",
      "Current cost = 1975.7717653742347\n",
      "Current cost = 1931.6148515518698\n",
      "Current cost = 1895.912074263184\n",
      "Current cost = 1866.5350291277364\n",
      "Current cost = 1841.8965846167453\n",
      "Current cost = 1820.813187426937\n",
      "Current cost = 1802.402196399984\n",
      "Current cost = 1786.0053339687995\n",
      "Current cost = 1771.13161101323\n",
      "Current cost = 1757.4147712250833\n",
      "Current cost = 1744.5815613201821\n",
      "Current cost = 1732.428073077206\n",
      "Current cost = 1720.8021037867084\n",
      "Current cost = 1709.5900040686215\n",
      "Current cost = 1698.7068715029463\n",
      "Current cost = 1688.0892389220612\n",
      "Current cost = 1677.6896227401453\n",
      "Current cost = 1667.4724581392538\n",
      "Current cost = 1657.4110683054478\n",
      "Current cost = 1647.4854046598816\n",
      "Current cost = 1637.6803619491866\n",
      "Current cost = 1627.9845219550025\n",
      "Current cost = 1618.3892167850126\n",
      "Current cost = 1608.8878304462423\n",
      "Current cost = 1599.4752780833496\n",
      "Current cost = 1590.1476176852439\n",
      "Current cost = 1580.901760561091\n",
      "Current cost = 1571.7352554595361\n",
      "Current cost = 1562.6461275968968\n",
      "Current cost = 1553.6327586259467\n",
      "Current cost = 1544.6937971303569\n",
      "Current cost = 1535.8280918793623\n",
      "Current cost = 1527.03464205268\n",
      "Current cost = 1518.3125601186462\n",
      "Current cost = 1509.6610441467428\n",
      "Current cost = 1501.0793571545594\n",
      "Current cost = 1492.5668116997358\n",
      "Current cost = 1484.1227583826849\n",
      "Current cost = 1475.7465772652815\n",
      "Current cost = 1467.4376714637926\n",
      "Current cost = 1459.1954623630043\n",
      "Current cost = 1451.0193860391953\n",
      "Current cost = 1442.9088905845065\n",
      "Current cost = 1434.8634341034601\n",
      "Current cost = 1426.8824832107148\n",
      "Current cost = 1418.9655119026056\n",
      "Current cost = 1411.1120007074528\n",
      "Current cost = 1403.3214360437853\n",
      "Current cost = 1395.5933097336579\n",
      "Current cost = 1387.927118631667\n",
      "Current cost = 1380.3223643403044\n",
      "Current cost = 1372.778552989736\n",
      "Current cost = 1365.295195065701\n",
      "Current cost = 1357.8718052733338\n",
      "Current cost = 1350.507902427843\n",
      "Current cost = 1343.2030093652756\n",
      "Current cost = 1335.9566528683217\n",
      "Current cost = 1328.7683636033862\n",
      "Current cost = 1321.6376760661342\n",
      "Current cost = 1314.564128533404\n",
      "Current cost = 1307.5472630199363\n",
      "Current cost = 1300.586625238746\n",
      "Current cost = 1293.6817645642761\n",
      "Current cost = 1286.8322339976808\n",
      "Current cost = 1280.0375901337525\n",
      "Current cost = 1273.2973931291374\n",
      "Current cost = 1266.6112066715648\n",
      "\n",
      "Final cost = 1259.9785979498877\n"
     ]
    }
   ],
   "source": [
    "gd = GradientDescent(x, outputs)\n",
    "w, b = gd.run(1, 50, 80)"
   ]
  },
  {
   "cell_type": "code",
   "execution_count": 97,
   "metadata": {},
   "outputs": [
    {
     "data": {
      "image/png": "[encoded data removed]",
      "text/plain": [
       "<Figure size 432x288 with 1 Axes>"
      ]
     },
     "metadata": {
      "needs_background": "light"
     },
     "output_type": "display_data"
    }
   ],
   "source": [
    "plt.scatter(x, outputs, c='r', label='Non-linear data')\n",
    "plt.plot(x, (x * w + b), c='g', label='Estimated Line')\n",
    "plt.show()"
   ]
  }
 ],
 "metadata": {
  "kernelspec": {
   "display_name": "Python 3.10.5 64-bit",
   "language": "python",
   "name": "python3"
  },
  "language_info": {
   "codemirror_mode": {
    "name": "ipython",
    "version": 3
   },
   "file_extension": ".py",
   "mimetype": "text/x-python",
   "name": "python",
   "nbconvert_exporter": "python",
   "pygments_lexer": "ipython3",
   "version": "3.10.5"
  },
  "orig_nbformat": 4,
  "vscode": {
   "interpreter": {
    "hash": "7c2737f5cd3eb6a237b7123ce75c641d6f975db18b0c0702ad2055474d78171c"
   }
  }
 },
 "nbformat": 4,
 "nbformat_minor": 2
}
