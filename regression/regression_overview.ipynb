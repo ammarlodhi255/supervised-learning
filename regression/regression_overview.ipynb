{
 "cells": [
  {
   "cell_type": "code",
   "execution_count": 1,
   "metadata": {},
   "outputs": [],
   "source": [
    "import numpy as np\n",
    "from matplotlib import pyplot as plt"
   ]
  },
  {
   "cell_type": "code",
   "execution_count": 2,
   "metadata": {},
   "outputs": [
    {
     "name": "stdout",
     "output_type": "stream",
     "text": [
      "X_train: [1. 2.]\n",
      "y_train: [300. 500.]\n"
     ]
    }
   ],
   "source": [
    "# Let us create a dataset containing house prices (y) corresponding to the house sizes (x). \n",
    "# Let us only create 2 examples in the training set\n",
    "\n",
    "X_train = np.array([1.0, 2.0])\n",
    "y_train = np.array([300.0, 500.0])\n",
    "\n",
    "print(f\"X_train: {X_train}\")\n",
    "print(f\"y_train: {y_train}\")"
   ]
  },
  {
   "cell_type": "code",
   "execution_count": 3,
   "metadata": {},
   "outputs": [
    {
     "name": "stdout",
     "output_type": "stream",
     "text": [
      "X_train.shape: (2,)\n",
      "Number of training examples: 2\n"
     ]
    }
   ],
   "source": [
    "# m denotes the number of examples \n",
    "print(f\"X_train.shape: {X_train.shape}\")\n",
    "m = X_train.shape[0]\n",
    "print(f\"Number of training examples: {m}\")"
   ]
  },
  {
   "cell_type": "code",
   "execution_count": 4,
   "metadata": {},
   "outputs": [
    {
     "name": "stdout",
     "output_type": "stream",
     "text": [
      "(x^(1), y^(1)) = (2.0, 500.0)\n"
     ]
    }
   ],
   "source": [
    "# We will use x_i and y_i to denote ith training example\n",
    "i = 1\n",
    "x_i = X_train[i]\n",
    "y_i = y_train[i]\n",
    "\n",
    "print(f\"(x^({i}), y^({i})) = ({x_i}, {y_i})\")"
   ]
  },
  {
   "cell_type": "code",
   "execution_count": 10,
   "metadata": {},
   "outputs": [
    {
     "data": {
      "image/png": "[encoded data removed]",
      "text/plain": [
       "<Figure size 432x288 with 1 Axes>"
      ]
     },
     "metadata": {
      "needs_background": "light"
     },
     "output_type": "display_data"
    }
   ],
   "source": [
    "# Plot the two datapoints in the training set\n",
    "\n",
    "plt.scatter(X_train, y_train, marker='x', c='b')\n",
    "plt.title('Housing Prices')\n",
    "plt.xlabel('House Size (1000 sqft)')\n",
    "plt.ylabel('House Price ($1000)')\n",
    "plt.grid()\n",
    "plt.show()"
   ]
  },
  {
   "cell_type": "markdown",
   "metadata": {},
   "source": [
    "the model function for linear regression (which is a function that maps from `x` to `y`) is represented as \n",
    "$$ f_{w,b}(x^{(i)}) = wx^{(i)} + b \\tag{1}$$\n",
    "The formula above is how you can represent straight lines - different values of $w$ and $b$ give you different straight lines on the plot. <br/> <br/> <br/> <br/> <br/> \n",
    "Let's try to get a better intuition for this through the code blocks below. Let's start with $w = 100$ and $b = 100$. \n",
    "**Note: You can come back to this cell to adjust the model's w and b parameters**"
   ]
  },
  {
   "cell_type": "code",
   "execution_count": 15,
   "metadata": {},
   "outputs": [
    {
     "name": "stdout",
     "output_type": "stream",
     "text": [
      "fw,b(x^1) = 300.0\n"
     ]
    }
   ],
   "source": [
    "w = 100\n",
    "b = 100\n",
    "i = 1\n",
    "\n",
    "# Compute fw,b(x_i) \n",
    "\n",
    "def f(x, w, b):\n",
    "    return w * x + b\n",
    "\n",
    "\n",
    "x_i = X_train[i]\n",
    "f_xi = f(x_i, w, b)\n",
    "print(f\"fw,b(x^{i}) = {f_xi}\")"
   ]
  },
  {
   "cell_type": "code",
   "execution_count": 19,
   "metadata": {},
   "outputs": [
    {
     "name": "stdout",
     "output_type": "stream",
     "text": [
      "Outputs: [200. 300.]\n"
     ]
    }
   ],
   "source": [
    "# Compute fx,b(x_i) for each i belonging to {0, 1}\n",
    "\n",
    "def compute_model_output(x, w, b):\n",
    "    m = x.shape[0]\n",
    "    f_wb = np.zeros(m)\n",
    "\n",
    "    for i in range(m):\n",
    "        f_wb[i] = w * x[i] + b\n",
    "    \n",
    "    return f_wb\n",
    "\n",
    "print(f\"Outputs: {compute_model_output(X_train, w, b)}\")"
   ]
  },
  {
   "cell_type": "code",
   "execution_count": null,
   "metadata": {},
   "outputs": [],
   "source": []
  }
 ],
 "metadata": {
  "kernelspec": {
   "display_name": "Python 3.10.5 64-bit",
   "language": "python",
   "name": "python3"
  },
  "language_info": {
   "codemirror_mode": {
    "name": "ipython",
    "version": 3
   },
   "file_extension": ".py",
   "mimetype": "text/x-python",
   "name": "python",
   "nbconvert_exporter": "python",
   "pygments_lexer": "ipython3",
   "version": "3.10.5"
  },
  "orig_nbformat": 4,
  "vscode": {
   "interpreter": {
    "hash": "7c2737f5cd3eb6a237b7123ce75c641d6f975db18b0c0702ad2055474d78171c"
   }
  }
 },
 "nbformat": 4,
 "nbformat_minor": 2
}
