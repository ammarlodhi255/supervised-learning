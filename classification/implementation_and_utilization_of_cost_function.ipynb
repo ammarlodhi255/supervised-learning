{
 "cells": [
  {
   "cell_type": "code",
   "execution_count": 59,
   "metadata": {},
   "outputs": [],
   "source": [
    "import numpy as np\n",
    "import matplotlib.pyplot as plt"
   ]
  },
  {
   "cell_type": "code",
   "execution_count": 60,
   "metadata": {},
   "outputs": [],
   "source": [
    "X_train = np.array([[0.5, 1.5], [1,1], [1.5, 0.5], [3, 0.5], [2, 2], [1, 2.5]])  \n",
    "y_train = np.array([0, 0, 0, 1, 1, 1])                                           "
   ]
  },
  {
   "cell_type": "code",
   "execution_count": 61,
   "metadata": {},
   "outputs": [
    {
     "data": {
      "image/png": "[encoded data removed]",
      "text/plain": [
       "<Figure size 432x288 with 1 Axes>"
      ]
     },
     "metadata": {
      "needs_background": "light"
     },
     "output_type": "display_data"
    }
   ],
   "source": [
    "negatives_x1 = (X_train[y_train == 0])[:, 0]\n",
    "negatives_x2 = (X_train[y_train == 0])[:, 1]\n",
    "\n",
    "positives_x1 = (X_train[y_train == 1])[:, 0]\n",
    "positives_x2 = (X_train[y_train == 1])[:, 1]\n",
    "\n",
    "plt.scatter(negatives_x1, negatives_x2, c='r', label='Negative', s=100)\n",
    "plt.scatter(positives_x1, positives_x2,\n",
    "           c='g', label='Postive', marker='x', s=100)\n",
    "plt.grid()\n",
    "plt.legend()\n",
    "plt.show()"
   ]
  },
  {
   "cell_type": "code",
   "execution_count": 62,
   "metadata": {},
   "outputs": [
    {
     "data": {
      "text/plain": [
       "0.36686678640551745"
      ]
     },
     "execution_count": 62,
     "metadata": {},
     "output_type": "execute_result"
    }
   ],
   "source": [
    "def sigmoid(z):\n",
    "    g = 1 / (1 + np.exp(-z))\n",
    "    return g \n",
    "\n",
    "\n",
    "def cost(X, y, w, b):\n",
    "    m = X.shape[0]\n",
    "    cost = 0.0\n",
    "\n",
    "    for i in range(m):\n",
    "        z = np.dot(X[i], w) + b\n",
    "        fwb = sigmoid(z)\n",
    "\n",
    "        loss = -y[i] * np.log(fwb) - (1 - y[i]) * np.log(1 - fwb)\n",
    "        cost += loss\n",
    "\n",
    "    cost /= m\n",
    "    return cost\n",
    "\n",
    "\n",
    "# More compact version of logistic cost:\n",
    "def logistic_cost(X, y, w, b):\n",
    "    m = X.shape[0]\n",
    "    positive_losses = -1 * np.log(sigmoid(np.dot(X[y == 1], w) + b))\n",
    "    negative_losses = -1 * np.log(1 - sigmoid(np.dot(X[y == 0], w) + b))\n",
    "    cost_sum = np.sum(positive_losses) + np.sum(negative_losses)\n",
    "    return cost_sum / m\n",
    "\n",
    "\n",
    "logistic_cost(X_train, y_train, [1, 1], -3)\n",
    "cost(X_train, y_train, [1, 1], -3)"
   ]
  },
  {
   "cell_type": "code",
   "execution_count": 70,
   "metadata": {},
   "outputs": [
    {
     "data": {
      "image/png": "[encoded data removed]",
      "text/plain": [
       "<Figure size 432x288 with 1 Axes>"
      ]
     },
     "metadata": {
      "needs_background": "light"
     },
     "output_type": "display_data"
    }
   ],
   "source": [
    "# Let us plot the decision boundary for the chosen w and b\n",
    "# w0 * x0 + w1 + x1 + b = x0 + x1 -3, let x0 + x1 -3 = 0 --> x1 = -x0 + 3\n",
    "\n",
    "plt.plot(np.arange(X_train.shape[0]), -np.arange(X_train.shape[0]) + 3)\n",
    "plt.scatter(negatives_x1, negatives_x2, c='r', label='Negative', s=100)\n",
    "plt.scatter(positives_x1, positives_x2,\n",
    "            c='g', label='Postive', marker='x', s=100)\n",
    "plt.grid()\n",
    "plt.legend()\n",
    "plt.show()\n",
    "plt.show()"
   ]
  },
  {
   "cell_type": "code",
   "execution_count": 64,
   "metadata": {},
   "outputs": [
    {
     "name": "stdout",
     "output_type": "stream",
     "text": [
      "12.287593314972032\n",
      "Former Execution time: 1780.002 ms\n",
      "12.287593314976007\n",
      "My Execution time: 55.946 ms\n"
     ]
    }
   ],
   "source": [
    "import time \n",
    "np.random.seed(1)\n",
    "X = np.random.rand(10000000).reshape(-1, 100)\n",
    "y = np.random.randint(0, 2, size=(X.shape[0],))\n",
    "w = np.random.rand(100)\n",
    "b = 1\n",
    "\n",
    "start = time.time()\n",
    "f = cost(X, y, w, b)\n",
    "stop = time.time()\n",
    "\n",
    "print(f)\n",
    "print(f'Former Execution time: {1000 * (stop - start):.3f} ms')\n",
    "\n",
    "start = time.time()\n",
    "m = logistic_cost(X, y, w, b)\n",
    "stop = time.time()\n",
    "\n",
    "print(m)\n",
    "print(f'My Execution time: {1000 * (stop - start):.3f} ms')\n",
    "\n",
    "# Eradicate the arrays from memory\n",
    "del X\n",
    "del y"
   ]
  }
 ],
 "metadata": {
  "kernelspec": {
   "display_name": "Python 3.10.5 64-bit",
   "language": "python",
   "name": "python3"
  },
  "language_info": {
   "codemirror_mode": {
    "name": "ipython",
    "version": 3
   },
   "file_extension": ".py",
   "mimetype": "text/x-python",
   "name": "python",
   "nbconvert_exporter": "python",
   "pygments_lexer": "ipython3",
   "version": "3.10.5"
  },
  "orig_nbformat": 4,
  "vscode": {
   "interpreter": {
    "hash": "7c2737f5cd3eb6a237b7123ce75c641d6f975db18b0c0702ad2055474d78171c"
   }
  }
 },
 "nbformat": 4,
 "nbformat_minor": 2
}
