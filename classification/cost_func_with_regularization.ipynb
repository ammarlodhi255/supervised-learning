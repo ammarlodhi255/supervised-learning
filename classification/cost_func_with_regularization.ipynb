{
 "cells": [
  {
   "cell_type": "code",
   "execution_count": 1,
   "metadata": {},
   "outputs": [],
   "source": [
    "import numpy as np  "
   ]
  },
  {
   "cell_type": "code",
   "execution_count": 4,
   "metadata": {},
   "outputs": [],
   "source": [
    "def hyp(x, w, b):\n",
    "    return np.dot(x, w) + b\n",
    "\n",
    "\n",
    "def cost(X, y, W, b, _lambda):\n",
    "    m = X.shape[0]\n",
    "    difference = hyp(X, W, b) - y\n",
    "    usual_cost = (1/(2*m)) * np.sum(difference)\n",
    "\n",
    "    reg = (_lambda/(2*m)) * np.sum(W**2)\n",
    "    total_cost = usual_cost + reg\n",
    "    return total_cost"
   ]
  },
  {
   "cell_type": "code",
   "execution_count": 8,
   "metadata": {},
   "outputs": [
    {
     "data": {
      "text/plain": [
       "5.65"
      ]
     },
     "execution_count": 8,
     "metadata": {},
     "output_type": "execute_result"
    }
   ],
   "source": [
    "X = np.array([[1, 2, 3], [3, 2, 4]])\n",
    "W = np.array([1, 1, 2])\n",
    "b = 1\n",
    "\n",
    "cost(X, 1, W, b, 0.1)"
   ]
  }
 ],
 "metadata": {
  "kernelspec": {
   "display_name": "Python 3",
   "language": "python",
   "name": "python3"
  },
  "language_info": {
   "codemirror_mode": {
    "name": "ipython",
    "version": 3
   },
   "file_extension": ".py",
   "mimetype": "text/x-python",
   "name": "python",
   "nbconvert_exporter": "python",
   "pygments_lexer": "ipython3",
   "version": "3.10.5"
  },
  "orig_nbformat": 4,
  "vscode": {
   "interpreter": {
    "hash": "7c2737f5cd3eb6a237b7123ce75c641d6f975db18b0c0702ad2055474d78171c"
   }
  }
 },
 "nbformat": 4,
 "nbformat_minor": 2
}
