{
 "cells": [
  {
   "cell_type": "code",
   "execution_count": 1,
   "metadata": {},
   "outputs": [],
   "source": [
    "import numpy as np  \n",
    "import matplotlib.pyplot as plt\n",
    "import math"
   ]
  },
  {
   "cell_type": "code",
   "execution_count": 2,
   "metadata": {},
   "outputs": [],
   "source": [
    "'''\n",
    "\n",
    "Let us implement a logistic regression model to predict whether a student gets admitted into a university.\n",
    "That is, we want to implement the model that gives us the probability of student getting admitted into a university.\n",
    "\n",
    "The following data consists of scores for two exams for each student and the status whether that student got admitted \n",
    "or not.\n",
    "'''\n",
    "\n",
    "data = np.array([[34.62365962451697,78.0246928153624,0],\n",
    "[30.28671076822607,43.89499752400101,0],\n",
    "[35.84740876993872,72.90219802708364,0],\n",
    "[60.18259938620976,86.30855209546826,1],\n",
    "[79.0327360507101,75.3443764369103,1],\n",
    "[45.08327747668339,56.3163717815305,0],\n",
    "[61.10666453684766,96.51142588489624,1],\n",
    "[75.02474556738889,46.55401354116538,1],\n",
    "[76.09878670226257,87.42056971926803,1],\n",
    "[84.43281996120035,43.53339331072109,1],\n",
    "[95.86155507093572,38.22527805795094,0],\n",
    "[75.01365838958247,30.60326323428011,0],\n",
    "[82.30705337399482,76.48196330235604,1],\n",
    "[69.36458875970939,97.71869196188608,1],\n",
    "[39.53833914367223,76.03681085115882,0],\n",
    "[53.9710521485623,89.20735013750205,1],\n",
    "[69.07014406283025,52.74046973016765,1],\n",
    "[67.94685547711617,46.67857410673128,0],\n",
    "[70.66150955499435,92.92713789364831,1],\n",
    "[76.97878372747498,47.57596364975532,1],\n",
    "[67.37202754570876,42.83843832029179,0],\n",
    "[89.67677575072079,65.79936592745237,1],\n",
    "[50.534788289883,48.85581152764205,0],\n",
    "[34.21206097786789,44.20952859866288,0],\n",
    "[77.9240914545704,68.9723599933059,1],\n",
    "[62.27101367004632,69.95445795447587,1],\n",
    "[80.1901807509566,44.82162893218353,1],\n",
    "[93.114388797442,38.80067033713209,0],\n",
    "[61.83020602312595,50.25610789244621,0],\n",
    "[38.78580379679423,64.99568095539578,0],\n",
    "[61.379289447425,72.80788731317097,1],\n",
    "[85.40451939411645,57.05198397627122,1],\n",
    "[52.10797973193984,63.12762376881715,0],\n",
    "[52.04540476831827,69.43286012045222,1],\n",
    "[40.23689373545111,71.16774802184875,0],\n",
    "[54.63510555424817,52.21388588061123,0],\n",
    "[33.91550010906887,98.86943574220611,0],\n",
    "[64.17698887494485,80.90806058670817,1],\n",
    "[74.78925295941542,41.57341522824434,0],\n",
    "[34.1836400264419,75.2377203360134,0],\n",
    "[83.90239366249155,56.30804621605327,1],\n",
    "[51.54772026906181,46.85629026349976,0],\n",
    "[94.44336776917852,65.56892160559052,1],\n",
    "[82.36875375713919,40.61825515970618,0],\n",
    "[51.04775177128865,45.82270145776001,0],\n",
    "[62.22267576120188,52.06099194836679,0],\n",
    "[77.19303492601364,70.45820000180959,1],\n",
    "[97.77159928000232,86.7278223300282,1],\n",
    "[62.07306379667647,96.76882412413983,1],\n",
    "[91.56497449807442,88.69629254546599,1],\n",
    "[79.94481794066932,74.16311935043758,1],\n",
    "[99.2725269292572,60.99903099844988,1],\n",
    "[90.54671411399852,43.39060180650027,1],\n",
    "[34.52451385320009,60.39634245837173,0],\n",
    "[50.2864961189907,49.80453881323059,0],\n",
    "[49.58667721632031,59.80895099453265,0],\n",
    "[97.64563396007767,68.86157272420604,1],\n",
    "[32.57720016809309,95.59854761387875,0],\n",
    "[74.24869136721598,69.82457122657193,1],\n",
    "[71.79646205863379,78.45356224515052,1],\n",
    "[75.3956114656803,85.75993667331619,1],\n",
    "[35.28611281526193,47.02051394723416,0]])\n",
    "\n",
    "X_train = data[:, [0, 1]]\n",
    "y_train = data[:, -1]"
   ]
  },
  {
   "cell_type": "code",
   "execution_count": 3,
   "metadata": {},
   "outputs": [
    {
     "name": "stdout",
     "output_type": "stream",
     "text": [
      "Dimensions of X_train: (62, 2)\n",
      "Dimensions of y_train: (62,)\n"
     ]
    }
   ],
   "source": [
    "print(f'Dimensions of X_train: {X_train.shape}')\n",
    "print(f'Dimensions of y_train: {y_train.shape}')"
   ]
  },
  {
   "cell_type": "code",
   "execution_count": 4,
   "metadata": {},
   "outputs": [
    {
     "data": {
      "image/png": "[encoded data removed]",
      "text/plain": [
       "<Figure size 432x288 with 1 Axes>"
      ]
     },
     "metadata": {
      "needs_background": "light"
     },
     "output_type": "display_data"
    }
   ],
   "source": [
    "# Let us visualize the data before implementing the logistic regression\n",
    "\n",
    "postives_exam1 = X_train[y_train == 1][:, 0]\n",
    "negatives_exam1 = X_train[y_train == 0][:, 0]\n",
    "\n",
    "postives_exam2 = X_train[y_train == 1][:, 1]\n",
    "negatives_exam2 = X_train[y_train == 0][:, 1]\n",
    "\n",
    "plt.scatter(postives_exam1, postives_exam2, c='g', marker='x', s=100, label='Admitted')\n",
    "plt.scatter(negatives_exam1, negatives_exam2, c='r', label='Not Admitted')\n",
    "plt.xlabel('Exam 1 score'); plt.ylabel('Exam 2 score')\n",
    "plt.grid()\n",
    "plt.legend()\n",
    "plt.show()"
   ]
  },
  {
   "cell_type": "code",
   "execution_count": 5,
   "metadata": {},
   "outputs": [],
   "source": [
    "# Sigmoid function implementation\n",
    "def sigmoid(z):\n",
    "    '''\n",
    "    Computes sigmoid value for z\n",
    "\n",
    "    Args:\n",
    "        z: a scalar or an (ndarray) of any size\n",
    "\n",
    "    Returns:\n",
    "        g: a scalar or an (ndarray) of the same size as the input\n",
    "    '''\n",
    "\n",
    "    g = 1 / (1 + np.exp(-z))\n",
    "\n",
    "    return g"
   ]
  },
  {
   "cell_type": "code",
   "execution_count": 6,
   "metadata": {},
   "outputs": [
    {
     "name": "stdout",
     "output_type": "stream",
     "text": [
      "sigmoid([0.  1.  0.4 2. ]) = [0.5        0.73105858 0.59868766 0.88079708]\n"
     ]
    }
   ],
   "source": [
    "sig = np.array([0, 1, 0.4, 2])\n",
    "print(f'sigmoid({sig}) = {sigmoid(sig)}')"
   ]
  },
  {
   "cell_type": "code",
   "execution_count": 7,
   "metadata": {},
   "outputs": [],
   "source": [
    "def compute_cost(X, y, w, b):\n",
    "    '''\n",
    "    Computes the cost over all examples\n",
    "    Args:\n",
    "      X : (ndarray Shape (m,n)) data, m examples by n features\n",
    "      y : (array_like Shape (m,)) target value \n",
    "      w : (array_like Shape (n,)) Values of parameters of the model      \n",
    "      b : scalar Values of bias parameter of the model\n",
    "    Returns:\n",
    "      total_cost: (scalar)         cost \n",
    "    '''\n",
    "\n",
    "    m, n = X.shape\n",
    "    positive_losses = -1 * np.log(sigmoid(np.dot(X[y == 1], w) + b))\n",
    "    negative_losses = -1 * np.log(1 - sigmoid(np.dot(X[y == 0], w) + b))\n",
    "\n",
    "    cost_sum = np.sum(positive_losses) + np.sum(negative_losses)\n",
    "    total_cost = cost_sum / m\n",
    "\n",
    "    return total_cost"
   ]
  },
  {
   "cell_type": "code",
   "execution_count": 8,
   "metadata": {},
   "outputs": [
    {
     "name": "stdout",
     "output_type": "stream",
     "text": [
      "Cost at test w and b: 0.266\n"
     ]
    }
   ],
   "source": [
    "test_w = np.array([0.2, 0.2])\n",
    "test_b = -24.\n",
    "cost = compute_cost(X_train, y_train, test_w, test_b)\n",
    "\n",
    "print('Cost at test w and b: {:.3f}'.format(cost))"
   ]
  },
  {
   "cell_type": "code",
   "execution_count": 9,
   "metadata": {},
   "outputs": [
    {
     "data": {
      "text/plain": [
       "(array([25.18944479, 48.70547209]), 0.75)"
      ]
     },
     "execution_count": 9,
     "metadata": {},
     "output_type": "execute_result"
    }
   ],
   "source": [
    "def compute_gradient(X, y, w, b):\n",
    "    m = X.shape[0]\n",
    "    dj_dw = np.zeros(w.shape)\n",
    "    dj_db = 0\n",
    "\n",
    "    fwb = sigmoid(np.dot(X, w) + b)\n",
    "    difference = fwb - y\n",
    "\n",
    "    for i in range(w.shape[0]):    \n",
    "        dj_dw[i] = np.sum(difference * X[:, i]) / m\n",
    "\n",
    "    dj_db = np.sum(difference) / m\n",
    "    return dj_dw, dj_db\n",
    "\n",
    "\n",
    "compute_gradient(X_train[:4], y_train[:4], np.array([1, 1]), 1)"
   ]
  },
  {
   "cell_type": "code",
   "execution_count": 10,
   "metadata": {},
   "outputs": [],
   "source": [
    "def update_parameters(X, y, w, b, lr):\n",
    "    dj_dw, dj_db = compute_gradient(X, y, w, b)\n",
    "    tmp_w = w - lr * dj_dw\n",
    "    tmp_b = b - lr * dj_db\n",
    "\n",
    "    return tmp_w, tmp_b, dj_dw, dj_db"
   ]
  },
  {
   "cell_type": "code",
   "execution_count": 13,
   "metadata": {},
   "outputs": [
    {
     "name": "stdout",
     "output_type": "stream",
     "text": [
      "Current cost: 4.301051192682257\n",
      "Current cost: 1.2586334615907633\n",
      "Current cost: 0.4131308357074679\n",
      "Current cost: 0.3235115551700944\n",
      "Current cost: 0.32159578153718693\n",
      "Current cost: 0.32100982554648033\n",
      "Current cost: 0.3206322253964795\n",
      "Current cost: 0.32032150717292535\n",
      "Current cost: 0.3200576498496574\n",
      "Current cost: 0.31983268021839584\n",
      "Current cost: 0.3196407223827904\n",
      "Current cost: 0.3194768693140248\n",
      "Current cost: 0.3193369583277367\n",
      "Current cost: 0.3192174507012385\n",
      "Current cost: 0.31911533645858153\n",
      "Current cost: 0.3190280543569565\n",
      "Current cost: 0.31895342417042266\n",
      "Current cost: 0.3188895893214985\n",
      "Current cost: 0.3188349682618655\n",
      "Current cost: 0.31878821325306794\n",
      "Current cost: 0.31874817540725525\n",
      "Current cost: 0.3187138750246914\n",
      "Current cost: 0.31868447641435754\n",
      "Current cost: 0.31865926651037074\n",
      "Current cost: 0.31863763670367395\n",
      "Current cost: 0.3186190673984911\n",
      "Current cost: 0.31860311487899456\n",
      "Current cost: 0.31858940013567644\n",
      "Current cost: 0.3185775993549381\n",
      "Current cost: 0.3185674358209746\n",
      "Current cost: 0.31855867301748836\n",
      "Current cost: 0.3185511087492247\n",
      "Current cost: 0.3185445701307434\n",
      "Current cost: 0.31853890931300666\n",
      "Current cost: 0.31853399983795866\n",
      "Current cost: 0.3185297335278453\n",
      "Current cost: 0.31852601783005613\n",
      "Current cost: 0.31852277355015585\n",
      "Current cost: 0.31851993291584674\n",
      "Current cost: 0.3185174379231503\n",
      "Current cost: 0.3185152389233415\n",
      "Current cost: 0.31851329341533097\n",
      "Current cost: 0.3185115650134149\n",
      "Current cost: 0.31851002256475996\n",
      "Current cost: 0.31850863939477114\n",
      "Current cost: 0.31850739266170336\n",
      "Current cost: 0.3185062628046189\n",
      "Current cost: 0.3185052330711203\n",
      "Current cost: 0.3185042891132775\n",
      "Current cost: 0.3185034186418597\n",
      "Current cost: 0.31850261113042183\n",
      "Current cost: 0.318501857562034\n",
      "Current cost: 0.3185011502124827\n",
      "Current cost: 0.3185004824646787\n",
      "Current cost: 0.3184998486497619\n",
      "Current cost: 0.31849924391105466\n",
      "Current cost: 0.3184986640875684\n",
      "Current cost: 0.31849810561424485\n",
      "Current cost: 0.31849756543652613\n",
      "Current cost: 0.31849704093718595\n",
      "Current cost: 0.3184965298736636\n",
      "Current cost: 0.31849603032438784\n",
      "Current cost: 0.31849554064279767\n",
      "Current cost: 0.31849505941795847\n",
      "Current cost: 0.3184945854408218\n",
      "Current cost: 0.31849411767532176\n",
      "Current cost: 0.3184936552336126\n",
      "Current cost: 0.3184931973548536\n",
      "Current cost: 0.31849274338703315\n",
      "Current cost: 0.3184922927713952\n",
      "Current cost: 0.31849184502909594\n",
      "Current cost: 0.3184913997497709\n",
      "Current cost: 0.3184909565817382\n",
      "Current cost: 0.31849051522360433\n",
      "Current cost: 0.3184900754170711\n",
      "Current cost: 0.3184896369407718\n",
      "Current cost: 0.3184891996049898\n",
      "Current cost: 0.31848876324713166\n",
      "Current cost: 0.3184883277278493\n",
      "Current cost: 0.3184878929277155\n",
      "Current cost: 0.31848745874437556\n",
      "Current cost: 0.31848702509010685\n",
      "Current cost: 0.31848659188972606\n",
      "Current cost: 0.3184861590787966\n",
      "Current cost: 0.3184857266020931\n",
      "Current cost: 0.31848529441228346\n",
      "Current cost: 0.31848486246880076\n",
      "Current cost: 0.31848443073687693\n",
      "Current cost: 0.31848399918671283\n",
      "Current cost: 0.31848356779276843\n",
      "Current cost: 0.31848313653315424\n",
      "Current cost: 0.31848270538910894\n",
      "Current cost: 0.3184822743445529\n",
      "Current cost: 0.3184818433857044\n",
      "Current cost: 0.31848141250075124\n",
      "Current cost: 0.31848098167956956\n",
      "Current cost: 0.31848055091348243\n",
      "Current cost: 0.31848012019505273\n",
      "Current cost: 0.31847968951790623\n",
      "Current cost: 0.31847925887657985\n",
      "Parameters found after running GD: w, b = (array([0.07381841, 0.05456487]), -8.001184362893207)\n"
     ]
    }
   ],
   "source": [
    "def gradient_descent(X, y, w, b, lr, iterations):\n",
    "    costs = np.zeros(iterations)\n",
    "    dj_dw = np.zeros((iterations, w.shape[0]))\n",
    "    dj_db = np.zeros(iterations)\n",
    "    w_store = np.zeros((iterations, w.shape[0]))    \n",
    "    b_store = np.zeros(iterations)\n",
    "\n",
    "    for i in range(iterations):\n",
    "        cost = compute_cost(X, y, w, b)\n",
    "        costs[i] = cost\n",
    "\n",
    "        print(f'Current cost: {cost}')\n",
    "        w, b, djdw, djdb = update_parameters(X, y, w, b, lr)\n",
    "        dj_dw[i] = djdw; dj_db[i] = djdb; w_store[i] = w; b_store[i] = b\n",
    "\n",
    "    return w_store[-1], b_store[-1]\n",
    "\n",
    "initial_w = 0.01 * (np.random.rand(2).reshape(2,) - 0.5)\n",
    "initial_b = -8\n",
    "w, b = gradient_descent(X_train, y_train, initial_w, initial_b, 0.001, 100)\n",
    "\n",
    "print(f'Parameters found after running GD: w, b = {w, b}')"
   ]
  },
  {
   "cell_type": "code",
   "execution_count": 17,
   "metadata": {},
   "outputs": [
    {
     "data": {
      "image/png": "[encoded data removed]",
      "text/plain": [
       "<Figure size 432x288 with 1 Axes>"
      ]
     },
     "metadata": {
      "needs_background": "light"
     },
     "output_type": "display_data"
    }
   ],
   "source": [
    "# Plotting the decision boundary using the learned parameters\n",
    "plt.plot(np.arange(100), -(w[0]/w[1]) * np.arange(100) - (b/w[1]))\n",
    "plt.scatter(postives_exam1, postives_exam2, c='g',\n",
    "            marker='x', s=100, label='Admitted')\n",
    "plt.scatter(negatives_exam1, negatives_exam2, c='r', label='Not Admitted')\n",
    "plt.xlabel('Exam 1 score')\n",
    "plt.ylabel('Exam 2 score')\n",
    "plt.grid()\n",
    "plt.legend()\n",
    "plt.show()"
   ]
  },
  {
   "cell_type": "code",
   "execution_count": null,
   "metadata": {},
   "outputs": [],
   "source": []
  }
 ],
 "metadata": {
  "kernelspec": {
   "display_name": "Python 3.10.5 64-bit",
   "language": "python",
   "name": "python3"
  },
  "language_info": {
   "codemirror_mode": {
    "name": "ipython",
    "version": 3
   },
   "file_extension": ".py",
   "mimetype": "text/x-python",
   "name": "python",
   "nbconvert_exporter": "python",
   "pygments_lexer": "ipython3",
   "version": "3.10.5"
  },
  "orig_nbformat": 4,
  "vscode": {
   "interpreter": {
    "hash": "7c2737f5cd3eb6a237b7123ce75c641d6f975db18b0c0702ad2055474d78171c"
   }
  }
 },
 "nbformat": 4,
 "nbformat_minor": 2
}
