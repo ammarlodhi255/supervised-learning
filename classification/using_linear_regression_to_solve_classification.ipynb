{
 "cells": [
  {
   "cell_type": "code",
   "execution_count": 1,
   "metadata": {},
   "outputs": [],
   "source": [
    "# Let us look at why linear regression is not a good algorithm for solving classification problems\n",
    "import numpy as np\n",
    "import matplotlib.pyplot as plt"
   ]
  },
  {
   "cell_type": "code",
   "execution_count": 2,
   "metadata": {},
   "outputs": [],
   "source": [
    "# Previous implementation of GD\n",
    "class GradientDescentUnivariateLR():\n",
    "    def __init__(self, X, y, lr=0.015):\n",
    "        self.lr = lr\n",
    "        self.X = X\n",
    "        self.y = y\n",
    "        self.m = X.shape[0]\n",
    "\n",
    "    # Model representation\n",
    "    def f(self, x, w, b):\n",
    "        return w * x + b\n",
    "\n",
    "    # Compute output prediction for each input sample, given some choice for w & b\n",
    "\n",
    "    def compute_model_output(self, w, b):\n",
    "        f_wb = np.zeros(self.m)\n",
    "\n",
    "        for i in range(self.m):\n",
    "            f_wb[i] = self.f(self.X[i], w, b)\n",
    "\n",
    "        return f_wb\n",
    "\n",
    "    def compute_cost(self, w, b):\n",
    "        cost = self.compute_model_output(w, b) - self.y\n",
    "        cost_sum = np.sum(cost**2)\n",
    "        return (1 / (2 * self.m)) * cost_sum\n",
    "\n",
    "    def cost_derivative_w(self, w, b):\n",
    "        cost = self.compute_model_output(w, b) - self.y\n",
    "        dj_dw = 0\n",
    "        for i in range(self.X.shape[0]):\n",
    "            dj_dw += cost[i] * self.X[i]\n",
    "        dj_dw = dj_dw * (1 / self.m)\n",
    "        return dj_dw\n",
    "\n",
    "    def cost_derivative_b(self, w, b):\n",
    "        cost = self.compute_model_output(w, b) - self.y\n",
    "        dj_db = np.sum(cost)\n",
    "        dj_db = dj_db * (1 / self.m)\n",
    "        return dj_db\n",
    "\n",
    "    def update_weights(self, w, b):\n",
    "        tmp_w = w - self.lr * self.cost_derivative_w(w, b)\n",
    "        tmp_b = b - self.lr * self.cost_derivative_b(w, b)\n",
    "        w = tmp_w\n",
    "        b = tmp_b\n",
    "\n",
    "        return w, b\n",
    "\n",
    "    def run(self, w, b, iter):\n",
    "        cost = self.compute_cost(w, b)\n",
    "\n",
    "        for i in range(iter):\n",
    "            print(f'Current cost = {cost}')\n",
    "            w, b = self.update_weights(w, b)\n",
    "            cost = self.compute_cost(w, b)\n",
    "\n",
    "        print(f'\\nFinal cost = {cost}')\n",
    "        return w, b"
   ]
  },
  {
   "cell_type": "code",
   "execution_count": 3,
   "metadata": {},
   "outputs": [
    {
     "data": {
      "text/plain": [
       "[]"
      ]
     },
     "execution_count": 3,
     "metadata": {},
     "output_type": "execute_result"
    },
    {
     "data": {
      "image/png": "[encoded data removed]",
      "text/plain": [
       "<Figure size 432x288 with 1 Axes>"
      ]
     },
     "metadata": {
      "needs_background": "light"
     },
     "output_type": "display_data"
    }
   ],
   "source": [
    "X_train = np.array([10, 15, 20, 25, 50, 55, 60])\n",
    "y_train = np.array([1, 1, 1, 1, 0, 0, 0])\n",
    "plt.scatter(X_train, y_train, c='green')\n",
    "plt.xlabel('Tumor Size')\n",
    "plt.ylabel('Malignant')\n",
    "plt.plot()"
   ]
  },
  {
   "cell_type": "code",
   "execution_count": 4,
   "metadata": {},
   "outputs": [
    {
     "name": "stdout",
     "output_type": "stream",
     "text": [
      "Current cost = 724.8571428571428\n",
      "Current cost = 179.197216717201\n",
      "Current cost = 44.31564666312113\n",
      "Current cost = 10.974292750406338\n",
      "Current cost = 2.732643684141704\n",
      "Current cost = 0.6953854255184034\n",
      "Current cost = 0.19178923950961646\n",
      "Current cost = 0.06729866458092953\n",
      "Current cost = 0.036519129885149985\n",
      "Current cost = 0.02890401099627841\n",
      "Current cost = 0.02701490253932288\n",
      "Current cost = 0.026541208726265884\n",
      "Current cost = 0.026417394281971512\n",
      "Current cost = 0.02638006976244989\n",
      "Current cost = 0.026364127984357142\n",
      "Current cost = 0.02635347511499057\n",
      "Current cost = 0.02634413292156744\n",
      "Current cost = 0.026335118023922226\n",
      "Current cost = 0.026326187338883845\n",
      "Current cost = 0.026317280777141617\n",
      "Current cost = 0.026308383483599884\n",
      "Current cost = 0.026299491784599914\n",
      "Current cost = 0.026290604770420875\n",
      "Current cost = 0.026281722214559947\n",
      "Current cost = 0.02627284405939963\n",
      "Current cost = 0.02626397028906998\n",
      "Current cost = 0.026255100898021445\n",
      "Current cost = 0.02624623588325629\n",
      "Current cost = 0.02623737524240844\n",
      "Current cost = 0.026228518973268715\n",
      "Current cost = 0.026219667073667595\n",
      "Current cost = 0.026210819541446058\n",
      "Current cost = 0.026201976374448536\n",
      "Current cost = 0.02619313757052112\n",
      "Current cost = 0.026184303127511112\n",
      "Current cost = 0.026175473043266895\n",
      "Current cost = 0.026166647315637902\n",
      "Current cost = 0.026157825942474656\n",
      "Current cost = 0.026149008921628754\n",
      "Current cost = 0.02614019625095282\n",
      "Current cost = 0.026131387928300543\n",
      "Current cost = 0.026122583951526727\n",
      "Current cost = 0.026113784318487116\n",
      "Current cost = 0.026104989027038655\n",
      "Current cost = 0.026096198075039243\n",
      "Current cost = 0.026087411460347883\n",
      "Current cost = 0.026078629180824587\n",
      "Current cost = 0.026069851234330487\n",
      "Current cost = 0.02606107761872773\n",
      "Current cost = 0.02605230833187955\n",
      "Current cost = 0.02604354337165016\n",
      "Current cost = 0.02603478273590492\n",
      "Current cost = 0.026026026422510187\n",
      "Current cost = 0.026017274429333388\n",
      "Current cost = 0.02600852675424299\n",
      "Current cost = 0.025999783395108566\n",
      "Current cost = 0.025991044349800638\n",
      "Current cost = 0.025982309616190868\n",
      "Current cost = 0.025973579192151937\n",
      "Current cost = 0.02596485307555756\n",
      "Current cost = 0.025956131264282544\n",
      "Current cost = 0.0259474137562027\n",
      "Current cost = 0.025938700549194883\n",
      "Current cost = 0.025929991641137035\n",
      "Current cost = 0.02592128702990813\n",
      "Current cost = 0.025912586713388176\n",
      "Current cost = 0.02590389068945826\n",
      "Current cost = 0.025895198956000468\n",
      "Current cost = 0.02588651151089793\n",
      "Current cost = 0.025877828352034886\n",
      "Current cost = 0.025869149477296564\n",
      "Current cost = 0.02586047488456925\n",
      "Current cost = 0.02585180457174025\n",
      "Current cost = 0.02584313853669796\n",
      "Current cost = 0.025834476777331784\n",
      "Current cost = 0.025825819291532194\n",
      "Current cost = 0.025817166077190635\n",
      "Current cost = 0.025808517132199674\n",
      "Current cost = 0.025799872454452904\n",
      "Current cost = 0.025791232041844907\n",
      "Current cost = 0.02578259589227135\n",
      "Current cost = 0.02577396400362892\n",
      "Current cost = 0.025765336373815333\n",
      "Current cost = 0.02575671300072938\n",
      "Current cost = 0.025748093882270843\n",
      "Current cost = 0.02573947901634056\n",
      "Current cost = 0.025730868400840406\n",
      "Current cost = 0.025722262033673303\n",
      "Current cost = 0.025713659912743176\n",
      "Current cost = 0.02570506203595502\n",
      "Current cost = 0.025696468401214846\n",
      "Current cost = 0.025687879006429687\n",
      "Current cost = 0.025679293849507623\n",
      "Current cost = 0.025670712928357764\n",
      "Current cost = 0.02566213624089024\n",
      "Current cost = 0.025653563785016258\n",
      "Current cost = 0.025644995558647993\n",
      "Current cost = 0.02563643155969868\n",
      "Current cost = 0.0256278717860826\n",
      "Current cost = 0.025619316235715037\n",
      "Current cost = 0.025610764906512283\n",
      "Current cost = 0.025602217796391723\n",
      "Current cost = 0.025593674903271708\n",
      "Current cost = 0.02558513622507167\n",
      "Current cost = 0.025576601759711996\n",
      "Current cost = 0.025568071505114174\n",
      "Current cost = 0.025559545459200674\n",
      "Current cost = 0.025551023619895002\n",
      "Current cost = 0.025542505985121693\n",
      "Current cost = 0.0255339925528063\n",
      "Current cost = 0.0255254833208754\n",
      "Current cost = 0.02551697828725659\n",
      "Current cost = 0.025508477449878504\n",
      "Current cost = 0.02549998080667075\n",
      "Current cost = 0.02549148835556404\n",
      "Current cost = 0.02548300009449005\n",
      "Current cost = 0.02547451602138149\n",
      "Current cost = 0.025466036134172074\n",
      "Current cost = 0.02545756043079655\n",
      "Current cost = 0.025449088909190697\n",
      "Current cost = 0.025440621567291308\n",
      "Current cost = 0.025432158403036156\n",
      "Current cost = 0.025423699414364082\n",
      "Current cost = 0.02541524459921494\n",
      "Current cost = 0.02540679395552954\n",
      "\n",
      "Final cost = 0.02539834748124979\n"
     ]
    }
   ],
   "source": [
    "w, b = GradientDescentUnivariateLR(X_train, y_train, lr=0.001).run(-1, 1, 125)"
   ]
  },
  {
   "cell_type": "code",
   "execution_count": 5,
   "metadata": {},
   "outputs": [
    {
     "data": {
      "text/plain": [
       "'\\nClearly, with this model, we would get a non-integer number if we were to predict the outcome of x = 30.\\nOne thing we could do is to pass horizontal line through the center of the predicted line and then draw a\\nvertical line through the intersection of that line and the predicted line as a threshold.\\n'"
      ]
     },
     "execution_count": 5,
     "metadata": {},
     "output_type": "execute_result"
    },
    {
     "data": {
      "image/png": "[encoded data removed]",
      "text/plain": [
       "<Figure size 432x288 with 1 Axes>"
      ]
     },
     "metadata": {
      "needs_background": "light"
     },
     "output_type": "display_data"
    }
   ],
   "source": [
    "plt.scatter(X_train, y_train, c='green', label='Ground Truth')\n",
    "plt.plot(X_train, (X_train * w + b), c='b', label='Best fit line')\n",
    "plt.xlabel('Tumor Size')\n",
    "plt.ylabel('Malignant')\n",
    "plt.plot()\n",
    "\n",
    "'''\n",
    "Clearly, with this model, we would get a non-integer number if we were to predict the outcome of x = 30.\n",
    "One thing we could do is to pass horizontal line through the center of the predicted line and then draw a\n",
    "vertical line through the intersection of that line and the predicted line as a threshold.\n",
    "'''"
   ]
  },
  {
   "cell_type": "code",
   "execution_count": 6,
   "metadata": {},
   "outputs": [
    {
     "data": {
      "text/plain": [
       "'\\nAnything on the left of this the red would be classified as malignant, and anything on the right of it\\nwould be classified as benign.\\n'"
      ]
     },
     "execution_count": 6,
     "metadata": {},
     "output_type": "execute_result"
    },
    {
     "data": {
      "image/png": "[encoded data removed]",
      "text/plain": [
       "<Figure size 432x288 with 1 Axes>"
      ]
     },
     "metadata": {
      "needs_background": "light"
     },
     "output_type": "display_data"
    }
   ],
   "source": [
    "predictions = (X_train * w + b)\n",
    "num_instances = X_train.shape[0]\n",
    "mean = np.mean(predictions)\n",
    "intersection_x = ((np.mean(predictions) - b) / w)\n",
    "\n",
    "plt.scatter(X_train, y_train, c='green', label='Ground Truth')\n",
    "plt.plot(X_train, predictions, c='b', label='Best fit line')\n",
    "plt.plot(X_train, np.full(num_instances, mean), c='orange', label='y = ' + str(round(mean, 2)))\n",
    "plt.plot(np.full(num_instances, intersection_x), y_train, c='r', label='x = ' + str(round(intersection_x, 2)))\n",
    "plt.xlabel('Tumor Size')\n",
    "plt.ylabel('Malignant')\n",
    "plt.legend()\n",
    "plt.plot()\n",
    "\n",
    "'''\n",
    "Anything on the left of this the red would be classified as malignant, and anything on the right of it\n",
    "would be classified as benign.\n",
    "'''"
   ]
  },
  {
   "cell_type": "code",
   "execution_count": 7,
   "metadata": {},
   "outputs": [
    {
     "name": "stdout",
     "output_type": "stream",
     "text": [
      "Current cost = 3109.3125\n",
      "Current cost = 423.47723847937493\n",
      "Current cost = 57.740230881822015\n",
      "Current cost = 7.9368929308197504\n",
      "Current cost = 1.155044887750252\n",
      "Current cost = 0.23154235119176533\n",
      "Current cost = 0.105785595900525\n",
      "Current cost = 0.08865990912477768\n",
      "Current cost = 0.08632679086181706\n",
      "Current cost = 0.0860080143232429\n",
      "Current cost = 0.08596353592510982\n",
      "Current cost = 0.08595640951484906\n",
      "Current cost = 0.0859543695332796\n",
      "Current cost = 0.08595302229727789\n",
      "Current cost = 0.08595176950784594\n",
      "Current cost = 0.08595052969307815\n",
      "Current cost = 0.08594929175872622\n",
      "Current cost = 0.08594805419404603\n",
      "Current cost = 0.08594681679330372\n",
      "Current cost = 0.08594557952847194\n",
      "Current cost = 0.08594434239572203\n",
      "Current cost = 0.08594310539452052\n",
      "Current cost = 0.08594186852478276\n",
      "Current cost = 0.08594063178648513\n",
      "Current cost = 0.08593939517961235\n",
      "Current cost = 0.08593815870415027\n",
      "Current cost = 0.08593692236008496\n",
      "Current cost = 0.08593568614740235\n",
      "Current cost = 0.08593445006608853\n",
      "Current cost = 0.08593321411612956\n",
      "Current cost = 0.08593197829751147\n",
      "Current cost = 0.08593074261022028\n",
      "Current cost = 0.08592950705424204\n",
      "Current cost = 0.0859282716295628\n",
      "Current cost = 0.08592703633616866\n",
      "Current cost = 0.0859258011740456\n",
      "Current cost = 0.08592456614317964\n",
      "Current cost = 0.08592333124355694\n",
      "Current cost = 0.08592209647516348\n",
      "Current cost = 0.08592086183798531\n",
      "Current cost = 0.08591962733200852\n",
      "Current cost = 0.08591839295721913\n",
      "Current cost = 0.08591715871360325\n",
      "Current cost = 0.08591592460114693\n",
      "Current cost = 0.08591469061983618\n",
      "Current cost = 0.08591345676965713\n",
      "Current cost = 0.08591222305059579\n",
      "Current cost = 0.08591098946263825\n",
      "Current cost = 0.08590975600577058\n",
      "Current cost = 0.08590852267997885\n",
      "Current cost = 0.08590728948524916\n",
      "Current cost = 0.08590605642156753\n",
      "Current cost = 0.08590482348892003\n",
      "Current cost = 0.0859035906872928\n",
      "Current cost = 0.08590235801667184\n",
      "Current cost = 0.08590112547704326\n",
      "Current cost = 0.08589989306839318\n",
      "Current cost = 0.08589866079070764\n",
      "Current cost = 0.08589742864397272\n",
      "Current cost = 0.08589619662817452\n",
      "Current cost = 0.08589496474329913\n",
      "Current cost = 0.08589373298933262\n",
      "Current cost = 0.08589250136626109\n",
      "Current cost = 0.08589126987407064\n",
      "Current cost = 0.08589003851274732\n",
      "Current cost = 0.08588880728227725\n",
      "Current cost = 0.08588757618264652\n",
      "Current cost = 0.08588634521384125\n",
      "Current cost = 0.0858851143758475\n",
      "Current cost = 0.08588388366865139\n",
      "Current cost = 0.08588265309223903\n",
      "Current cost = 0.08588142264659651\n",
      "Current cost = 0.08588019233170995\n",
      "Current cost = 0.08587896214756541\n",
      "Current cost = 0.08587773209414903\n",
      "Current cost = 0.08587650217144689\n",
      "Current cost = 0.08587527237944516\n",
      "Current cost = 0.0858740427181299\n",
      "Current cost = 0.08587281318748724\n",
      "Current cost = 0.08587158378750329\n",
      "Current cost = 0.08587035451816416\n",
      "Current cost = 0.08586912537945596\n",
      "Current cost = 0.08586789637136481\n",
      "Current cost = 0.08586666749387686\n",
      "Current cost = 0.08586543874697823\n",
      "Current cost = 0.085864210130655\n",
      "Current cost = 0.08586298164489331\n",
      "Current cost = 0.08586175328967927\n",
      "Current cost = 0.0858605250649991\n",
      "Current cost = 0.0858592969708388\n",
      "Current cost = 0.08585806900718457\n",
      "Current cost = 0.08585684117402255\n",
      "Current cost = 0.08585561347133884\n",
      "Current cost = 0.08585438589911959\n",
      "Current cost = 0.08585315845735093\n",
      "Current cost = 0.085851931146019\n",
      "Current cost = 0.08585070396510994\n",
      "Current cost = 0.08584947691460988\n",
      "Current cost = 0.085848249994505\n",
      "Current cost = 0.08584702320478141\n",
      "Current cost = 0.08584579654542523\n",
      "Current cost = 0.08584457001642265\n",
      "Current cost = 0.08584334361775983\n",
      "Current cost = 0.08584211734942285\n",
      "Current cost = 0.08584089121139792\n",
      "Current cost = 0.08583966520367117\n",
      "Current cost = 0.08583843932622878\n",
      "Current cost = 0.08583721357905688\n",
      "Current cost = 0.08583598796214162\n",
      "Current cost = 0.08583476247546915\n",
      "Current cost = 0.08583353711902564\n",
      "Current cost = 0.0858323118927973\n",
      "Current cost = 0.08583108679677023\n",
      "Current cost = 0.08582986183093064\n",
      "Current cost = 0.08582863699526465\n",
      "Current cost = 0.08582741228975845\n",
      "Current cost = 0.08582618771439822\n",
      "Current cost = 0.08582496326917011\n",
      "Current cost = 0.08582373895406027\n",
      "Current cost = 0.08582251476905492\n",
      "Current cost = 0.0858212907141402\n",
      "Current cost = 0.08582006678930229\n",
      "Current cost = 0.08581884299452741\n",
      "Current cost = 0.0858176193298017\n",
      "Current cost = 0.08581639579511134\n",
      "\n",
      "Final cost = 0.08581517239044249\n"
     ]
    }
   ],
   "source": [
    "'''\n",
    "For this particular data, it seems linear regression could be useful when incorporated with the concept of\n",
    "threshold, but now let us see the data on which it would not work.\n",
    "'''\n",
    "\n",
    "X_train = np.array([10, 15, 20, 25, 50, 55, 60, 200])\n",
    "y_train = np.array([1, 1, 1, 1, 0, 0, 0, 0])\n",
    "w, b = GradientDescentUnivariateLR(X_train, y_train, lr=0.0001).run(-1, 1, 125)"
   ]
  },
  {
   "cell_type": "code",
   "execution_count": 8,
   "metadata": {},
   "outputs": [
    {
     "data": {
      "text/plain": [
       "'\\nThe same logic does not work here. Just by adding an extra point, we end up learning a function that misclassifies\\nsome of the values.\\n'"
      ]
     },
     "execution_count": 8,
     "metadata": {},
     "output_type": "execute_result"
    },
    {
     "data": {
      "image/png": "[encoded data removed]",
      "text/plain": [
       "<Figure size 432x288 with 1 Axes>"
      ]
     },
     "metadata": {
      "needs_background": "light"
     },
     "output_type": "display_data"
    }
   ],
   "source": [
    "predictions = (X_train * w + b)\n",
    "num_instances = X_train.shape[0]\n",
    "mean = np.mean(predictions)\n",
    "intersection_x = ((np.mean(predictions) - b) / w)\n",
    "\n",
    "plt.scatter(X_train, y_train, c='green', label='Ground Truth')\n",
    "plt.plot(X_train, predictions, c='b', label='Best fit line')\n",
    "plt.plot(X_train, np.full(num_instances, mean),\n",
    "         c='orange', label='y = ' + str(round(mean, 2)))\n",
    "plt.plot(np.full(num_instances, intersection_x), y_train,\n",
    "         c='r', label='x = ' + str(round(intersection_x, 2)))\n",
    "plt.xlabel('Tumor Size')\n",
    "plt.ylabel('Malignant')\n",
    "plt.legend()\n",
    "plt.plot()\n",
    "\n",
    "'''\n",
    "The same logic does not work here. Just by adding an extra point, we end up learning a function that misclassifies\n",
    "some of the values.\n",
    "'''"
   ]
  },
  {
   "cell_type": "code",
   "execution_count": null,
   "metadata": {},
   "outputs": [],
   "source": []
  }
 ],
 "metadata": {
  "kernelspec": {
   "display_name": "Python 3.10.5 64-bit",
   "language": "python",
   "name": "python3"
  },
  "language_info": {
   "codemirror_mode": {
    "name": "ipython",
    "version": 3
   },
   "file_extension": ".py",
   "mimetype": "text/x-python",
   "name": "python",
   "nbconvert_exporter": "python",
   "pygments_lexer": "ipython3",
   "version": "3.10.5"
  },
  "orig_nbformat": 4,
  "vscode": {
   "interpreter": {
    "hash": "7c2737f5cd3eb6a237b7123ce75c641d6f975db18b0c0702ad2055474d78171c"
   }
  }
 },
 "nbformat": 4,
 "nbformat_minor": 2
}
