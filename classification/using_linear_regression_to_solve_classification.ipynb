{
 "cells": [
  {
   "cell_type": "code",
   "execution_count": 3,
   "metadata": {},
   "outputs": [],
   "source": [
    "# Let us look at why linear regression is not a good algorithm for solving classification problems\n",
    "import numpy as np\n",
    "import matplotlib.pyplot as plt"
   ]
  },
  {
   "cell_type": "code",
   "execution_count": null,
   "metadata": {},
   "outputs": [],
   "source": [
    "# Previous implementation of GD\n",
    "class GradientDescentUnivariateLR():\n",
    "    def __init__(self, X, y, lr=0.015):\n",
    "        self.lr = lr\n",
    "        self.X = X\n",
    "        self.y = y\n",
    "        self.m = X.shape[0]\n",
    "\n",
    "    # Model representation\n",
    "    def f(self, x, w, b):\n",
    "        return w * x + b\n",
    "\n",
    "    # Compute output prediction for each input sample, given some choice for w & b\n",
    "\n",
    "    def compute_model_output(self, w, b):\n",
    "        f_wb = np.zeros(self.m)\n",
    "\n",
    "        for i in range(self.m):\n",
    "            f_wb[i] = self.f(self.X[i], w, b)\n",
    "\n",
    "        return f_wb\n",
    "\n",
    "    def compute_cost(self, w, b):\n",
    "        cost = self.compute_model_output(w, b) - self.y\n",
    "        cost_sum = np.sum(cost**2)\n",
    "        return (1 / (2 * self.m)) * cost_sum\n",
    "\n",
    "    def cost_derivative_w(self, w, b):\n",
    "        cost = self.compute_model_output(w, b) - self.y\n",
    "        dj_dw = 0\n",
    "        for i in range(self.X.shape[0]):\n",
    "            dj_dw += cost[i] * self.X[i]\n",
    "        dj_dw = dj_dw * (1 / self.m)\n",
    "        return dj_dw\n",
    "\n",
    "    def cost_derivative_b(self, w, b):\n",
    "        cost = self.compute_model_output(w, b) - self.y\n",
    "        dj_db = np.sum(cost)\n",
    "        dj_db = dj_db * (1 / self.m)\n",
    "        return dj_db\n",
    "\n",
    "    def update_weights(self, w, b):\n",
    "        tmp_w = w - self.lr * self.cost_derivative_w(w, b)\n",
    "        tmp_b = b - self.lr * self.cost_derivative_b(w, b)\n",
    "        w = tmp_w\n",
    "        b = tmp_b\n",
    "\n",
    "        return w, b\n",
    "\n",
    "    def run(self, w, b, iter):\n",
    "        cost = self.compute_cost(w, b)\n",
    "\n",
    "        for i in range(iter):\n",
    "            print(f'Current cost = {cost}')\n",
    "            w, b = self.update_weights(w, b)\n",
    "            cost = self.compute_cost(w, b)\n",
    "\n",
    "        print(f'\\nFinal cost = {cost}')\n",
    "        return w, b"
   ]
  }
 ],
 "metadata": {
  "kernelspec": {
   "display_name": "Python 3.10.5 64-bit",
   "language": "python",
   "name": "python3"
  },
  "language_info": {
   "codemirror_mode": {
    "name": "ipython",
    "version": 3
   },
   "file_extension": ".py",
   "mimetype": "text/x-python",
   "name": "python",
   "nbconvert_exporter": "python",
   "pygments_lexer": "ipython3",
   "version": "3.10.5"
  },
  "orig_nbformat": 4,
  "vscode": {
   "interpreter": {
    "hash": "7c2737f5cd3eb6a237b7123ce75c641d6f975db18b0c0702ad2055474d78171c"
   }
  }
 },
 "nbformat": 4,
 "nbformat_minor": 2
}
