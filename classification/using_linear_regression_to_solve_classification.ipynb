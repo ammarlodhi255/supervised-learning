{
 "cells": [
  {
   "cell_type": "code",
   "execution_count": 47,
   "metadata": {},
   "outputs": [],
   "source": [
    "# Let us look at why linear regression is not a good algorithm for solving classification problems\n",
    "import numpy as np\n",
    "import matplotlib.pyplot as plt"
   ]
  },
  {
   "cell_type": "code",
   "execution_count": 48,
   "metadata": {},
   "outputs": [],
   "source": [
    "# Previous implementation of GD\n",
    "class GradientDescentUnivariateLR():\n",
    "    def __init__(self, X, y, lr=0.015):\n",
    "        self.lr = lr\n",
    "        self.X = X\n",
    "        self.y = y\n",
    "        self.m = X.shape[0]\n",
    "\n",
    "    # Model representation\n",
    "    def f(self, x, w, b):\n",
    "        return w * x + b\n",
    "\n",
    "    # Compute output prediction for each input sample, given some choice for w & b\n",
    "\n",
    "    def compute_model_output(self, w, b):\n",
    "        f_wb = np.zeros(self.m)\n",
    "\n",
    "        for i in range(self.m):\n",
    "            f_wb[i] = self.f(self.X[i], w, b)\n",
    "\n",
    "        return f_wb\n",
    "\n",
    "    def compute_cost(self, w, b):\n",
    "        cost = self.compute_model_output(w, b) - self.y\n",
    "        cost_sum = np.sum(cost**2)\n",
    "        return (1 / (2 * self.m)) * cost_sum\n",
    "\n",
    "    def cost_derivative_w(self, w, b):\n",
    "        cost = self.compute_model_output(w, b) - self.y\n",
    "        dj_dw = 0\n",
    "        for i in range(self.X.shape[0]):\n",
    "            dj_dw += cost[i] * self.X[i]\n",
    "        dj_dw = dj_dw * (1 / self.m)\n",
    "        return dj_dw\n",
    "\n",
    "    def cost_derivative_b(self, w, b):\n",
    "        cost = self.compute_model_output(w, b) - self.y\n",
    "        dj_db = np.sum(cost)\n",
    "        dj_db = dj_db * (1 / self.m)\n",
    "        return dj_db\n",
    "\n",
    "    def update_weights(self, w, b):\n",
    "        tmp_w = w - self.lr * self.cost_derivative_w(w, b)\n",
    "        tmp_b = b - self.lr * self.cost_derivative_b(w, b)\n",
    "        w = tmp_w\n",
    "        b = tmp_b\n",
    "\n",
    "        return w, b\n",
    "\n",
    "    def run(self, w, b, iter):\n",
    "        cost = self.compute_cost(w, b)\n",
    "\n",
    "        for i in range(iter):\n",
    "            print(f'Current cost = {cost}')\n",
    "            w, b = self.update_weights(w, b)\n",
    "            cost = self.compute_cost(w, b)\n",
    "\n",
    "        print(f'\\nFinal cost = {cost}')\n",
    "        return w, b"
   ]
  },
  {
   "cell_type": "code",
   "execution_count": 49,
   "metadata": {},
   "outputs": [
    {
     "data": {
      "text/plain": [
       "[]"
      ]
     },
     "execution_count": 49,
     "metadata": {},
     "output_type": "execute_result"
    },
    {
     "data": {
      "image/png": "[encoded data removed]",
      "text/plain": [
       "<Figure size 432x288 with 1 Axes>"
      ]
     },
     "metadata": {
      "needs_background": "light"
     },
     "output_type": "display_data"
    }
   ],
   "source": [
    "X_train = np.array([10, 15, 20, 25, 50, 55, 60])\n",
    "y_train = np.array([1, 1, 1, 1, 0, 0, 0])\n",
    "plt.scatter(X_train, y_train, c='green')\n",
    "plt.xlabel('Tumor Size')\n",
    "plt.ylabel('Malignant')\n",
    "plt.plot()"
   ]
  },
  {
   "cell_type": "code",
   "execution_count": 50,
   "metadata": {},
   "outputs": [
    {
     "name": "stdout",
     "output_type": "stream",
     "text": [
      "Current cost = 724.8571428571428\n",
      "Current cost = 179.197216717201\n",
      "Current cost = 44.31564666312113\n",
      "Current cost = 10.974292750406338\n",
      "Current cost = 2.732643684141704\n",
      "Current cost = 0.6953854255184034\n",
      "Current cost = 0.19178923950961646\n",
      "Current cost = 0.06729866458092953\n",
      "Current cost = 0.036519129885149985\n",
      "Current cost = 0.02890401099627841\n",
      "Current cost = 0.02701490253932288\n",
      "Current cost = 0.026541208726265884\n",
      "Current cost = 0.026417394281971512\n",
      "Current cost = 0.02638006976244989\n",
      "Current cost = 0.026364127984357142\n",
      "Current cost = 0.02635347511499057\n",
      "Current cost = 0.02634413292156744\n",
      "Current cost = 0.026335118023922226\n",
      "Current cost = 0.026326187338883845\n",
      "Current cost = 0.026317280777141617\n",
      "Current cost = 0.026308383483599884\n",
      "Current cost = 0.026299491784599914\n",
      "Current cost = 0.026290604770420875\n",
      "Current cost = 0.026281722214559947\n",
      "Current cost = 0.02627284405939963\n",
      "Current cost = 0.02626397028906998\n",
      "Current cost = 0.026255100898021445\n",
      "Current cost = 0.02624623588325629\n",
      "Current cost = 0.02623737524240844\n",
      "Current cost = 0.026228518973268715\n",
      "Current cost = 0.026219667073667595\n",
      "Current cost = 0.026210819541446058\n",
      "Current cost = 0.026201976374448536\n",
      "Current cost = 0.02619313757052112\n",
      "Current cost = 0.026184303127511112\n",
      "Current cost = 0.026175473043266895\n",
      "Current cost = 0.026166647315637902\n",
      "Current cost = 0.026157825942474656\n",
      "Current cost = 0.026149008921628754\n",
      "Current cost = 0.02614019625095282\n",
      "Current cost = 0.026131387928300543\n",
      "Current cost = 0.026122583951526727\n",
      "Current cost = 0.026113784318487116\n",
      "Current cost = 0.026104989027038655\n",
      "Current cost = 0.026096198075039243\n",
      "Current cost = 0.026087411460347883\n",
      "Current cost = 0.026078629180824587\n",
      "Current cost = 0.026069851234330487\n",
      "Current cost = 0.02606107761872773\n",
      "Current cost = 0.02605230833187955\n",
      "Current cost = 0.02604354337165016\n",
      "Current cost = 0.02603478273590492\n",
      "Current cost = 0.026026026422510187\n",
      "Current cost = 0.026017274429333388\n",
      "Current cost = 0.02600852675424299\n",
      "Current cost = 0.025999783395108566\n",
      "Current cost = 0.025991044349800638\n",
      "Current cost = 0.025982309616190868\n",
      "Current cost = 0.025973579192151937\n",
      "Current cost = 0.02596485307555756\n",
      "Current cost = 0.025956131264282544\n",
      "Current cost = 0.0259474137562027\n",
      "Current cost = 0.025938700549194883\n",
      "Current cost = 0.025929991641137035\n",
      "Current cost = 0.02592128702990813\n",
      "Current cost = 0.025912586713388176\n",
      "Current cost = 0.02590389068945826\n",
      "Current cost = 0.025895198956000468\n",
      "Current cost = 0.02588651151089793\n",
      "Current cost = 0.025877828352034886\n",
      "Current cost = 0.025869149477296564\n",
      "Current cost = 0.02586047488456925\n",
      "Current cost = 0.02585180457174025\n",
      "Current cost = 0.02584313853669796\n",
      "Current cost = 0.025834476777331784\n",
      "Current cost = 0.025825819291532194\n",
      "Current cost = 0.025817166077190635\n",
      "Current cost = 0.025808517132199674\n",
      "Current cost = 0.025799872454452904\n",
      "Current cost = 0.025791232041844907\n",
      "Current cost = 0.02578259589227135\n",
      "Current cost = 0.02577396400362892\n",
      "Current cost = 0.025765336373815333\n",
      "Current cost = 0.02575671300072938\n",
      "Current cost = 0.025748093882270843\n",
      "Current cost = 0.02573947901634056\n",
      "Current cost = 0.025730868400840406\n",
      "Current cost = 0.025722262033673303\n",
      "Current cost = 0.025713659912743176\n",
      "Current cost = 0.02570506203595502\n",
      "Current cost = 0.025696468401214846\n",
      "Current cost = 0.025687879006429687\n",
      "Current cost = 0.025679293849507623\n",
      "Current cost = 0.025670712928357764\n",
      "Current cost = 0.02566213624089024\n",
      "Current cost = 0.025653563785016258\n",
      "Current cost = 0.025644995558647993\n",
      "Current cost = 0.02563643155969868\n",
      "Current cost = 0.0256278717860826\n",
      "Current cost = 0.025619316235715037\n",
      "Current cost = 0.025610764906512283\n",
      "Current cost = 0.025602217796391723\n",
      "Current cost = 0.025593674903271708\n",
      "Current cost = 0.02558513622507167\n",
      "Current cost = 0.025576601759711996\n",
      "Current cost = 0.025568071505114174\n",
      "Current cost = 0.025559545459200674\n",
      "Current cost = 0.025551023619895002\n",
      "Current cost = 0.025542505985121693\n",
      "Current cost = 0.0255339925528063\n",
      "Current cost = 0.0255254833208754\n",
      "Current cost = 0.02551697828725659\n",
      "Current cost = 0.025508477449878504\n",
      "Current cost = 0.02549998080667075\n",
      "Current cost = 0.02549148835556404\n",
      "Current cost = 0.02548300009449005\n",
      "Current cost = 0.02547451602138149\n",
      "Current cost = 0.025466036134172074\n",
      "Current cost = 0.02545756043079655\n",
      "Current cost = 0.025449088909190697\n",
      "Current cost = 0.025440621567291308\n",
      "Current cost = 0.025432158403036156\n",
      "Current cost = 0.025423699414364082\n",
      "Current cost = 0.02541524459921494\n",
      "Current cost = 0.02540679395552954\n",
      "\n",
      "Final cost = 0.02539834748124979\n"
     ]
    }
   ],
   "source": [
    "w, b = GradientDescentUnivariateLR(X_train, y_train, lr=0.001).run(-1, 1, 125)"
   ]
  },
  {
   "cell_type": "code",
   "execution_count": 51,
   "metadata": {},
   "outputs": [
    {
     "data": {
      "text/plain": [
       "[]"
      ]
     },
     "execution_count": 51,
     "metadata": {},
     "output_type": "execute_result"
    },
    {
     "data": {
      "image/png": "[encoded data removed]",
      "text/plain": [
       "<Figure size 432x288 with 1 Axes>"
      ]
     },
     "metadata": {
      "needs_background": "light"
     },
     "output_type": "display_data"
    }
   ],
   "source": [
    "plt.scatter(X_train, y_train, c='green', label='Ground Truth')\n",
    "plt.plot(X_train, (X_train * w + b), c='b', label='Best fit line')\n",
    "plt.xlabel('Tumor Size')\n",
    "plt.ylabel('Malignant')\n",
    "plt.plot()"
   ]
  },
  {
   "cell_type": "code",
   "execution_count": 52,
   "metadata": {},
   "outputs": [
    {
     "ename": "ValueError",
     "evalue": "x and y must have same first dimension, but have shapes (7,) and (1,)",
     "output_type": "error",
     "traceback": [
      "\u001b[1;31m---------------------------------------------------------------------------\u001b[0m",
      "\u001b[1;31mValueError\u001b[0m                                Traceback (most recent call last)",
      "\u001b[1;32md:\\Projects and Code Files\\Visual code\\supervised-learning\\classification\\using_linear_regression_to_solve_classification.ipynb Cell 6\u001b[0m in \u001b[0;36m<cell line: 8>\u001b[1;34m()\u001b[0m\n\u001b[0;32m      <a href='vscode-notebook-cell:/d%3A/Projects%20and%20Code%20Files/Visual%20code/supervised-learning/classification/using_linear_regression_to_solve_classification.ipynb#W5sZmlsZQ%3D%3D?line=5'>6</a>\u001b[0m predictions \u001b[39m=\u001b[39m (X_train \u001b[39m*\u001b[39m w \u001b[39m+\u001b[39m b)\n\u001b[0;32m      <a href='vscode-notebook-cell:/d%3A/Projects%20and%20Code%20Files/Visual%20code/supervised-learning/classification/using_linear_regression_to_solve_classification.ipynb#W5sZmlsZQ%3D%3D?line=6'>7</a>\u001b[0m plt\u001b[39m.\u001b[39mplot(X_train, predictions, c\u001b[39m=\u001b[39m\u001b[39m'\u001b[39m\u001b[39mb\u001b[39m\u001b[39m'\u001b[39m, label\u001b[39m=\u001b[39m\u001b[39m'\u001b[39m\u001b[39mBest fit line\u001b[39m\u001b[39m'\u001b[39m)\n\u001b[1;32m----> <a href='vscode-notebook-cell:/d%3A/Projects%20and%20Code%20Files/Visual%20code/supervised-learning/classification/using_linear_regression_to_solve_classification.ipynb#W5sZmlsZQ%3D%3D?line=7'>8</a>\u001b[0m plt\u001b[39m.\u001b[39;49mplot(X_train, np\u001b[39m.\u001b[39;49mmean(predictions), c\u001b[39m=\u001b[39;49m\u001b[39m'\u001b[39;49m\u001b[39morange\u001b[39;49m\u001b[39m'\u001b[39;49m)\n\u001b[0;32m      <a href='vscode-notebook-cell:/d%3A/Projects%20and%20Code%20Files/Visual%20code/supervised-learning/classification/using_linear_regression_to_solve_classification.ipynb#W5sZmlsZQ%3D%3D?line=8'>9</a>\u001b[0m plt\u001b[39m.\u001b[39mxlabel(\u001b[39m'\u001b[39m\u001b[39mTumor Size\u001b[39m\u001b[39m'\u001b[39m)\n\u001b[0;32m     <a href='vscode-notebook-cell:/d%3A/Projects%20and%20Code%20Files/Visual%20code/supervised-learning/classification/using_linear_regression_to_solve_classification.ipynb#W5sZmlsZQ%3D%3D?line=9'>10</a>\u001b[0m plt\u001b[39m.\u001b[39mylabel(\u001b[39m'\u001b[39m\u001b[39mMalignant\u001b[39m\u001b[39m'\u001b[39m)\n",
      "File \u001b[1;32mc:\\Users\\Ammar\\AppData\\Local\\Programs\\Python\\Python310\\lib\\site-packages\\matplotlib\\pyplot.py:2757\u001b[0m, in \u001b[0;36mplot\u001b[1;34m(scalex, scaley, data, *args, **kwargs)\u001b[0m\n\u001b[0;32m   2755\u001b[0m \u001b[39m@_copy_docstring_and_deprecators\u001b[39m(Axes\u001b[39m.\u001b[39mplot)\n\u001b[0;32m   2756\u001b[0m \u001b[39mdef\u001b[39;00m \u001b[39mplot\u001b[39m(\u001b[39m*\u001b[39margs, scalex\u001b[39m=\u001b[39m\u001b[39mTrue\u001b[39;00m, scaley\u001b[39m=\u001b[39m\u001b[39mTrue\u001b[39;00m, data\u001b[39m=\u001b[39m\u001b[39mNone\u001b[39;00m, \u001b[39m*\u001b[39m\u001b[39m*\u001b[39mkwargs):\n\u001b[1;32m-> 2757\u001b[0m     \u001b[39mreturn\u001b[39;00m gca()\u001b[39m.\u001b[39mplot(\n\u001b[0;32m   2758\u001b[0m         \u001b[39m*\u001b[39margs, scalex\u001b[39m=\u001b[39mscalex, scaley\u001b[39m=\u001b[39mscaley,\n\u001b[0;32m   2759\u001b[0m         \u001b[39m*\u001b[39m\u001b[39m*\u001b[39m({\u001b[39m\"\u001b[39m\u001b[39mdata\u001b[39m\u001b[39m\"\u001b[39m: data} \u001b[39mif\u001b[39;00m data \u001b[39mis\u001b[39;00m \u001b[39mnot\u001b[39;00m \u001b[39mNone\u001b[39;00m \u001b[39melse\u001b[39;00m {}), \u001b[39m*\u001b[39m\u001b[39m*\u001b[39mkwargs)\n",
      "File \u001b[1;32mc:\\Users\\Ammar\\AppData\\Local\\Programs\\Python\\Python310\\lib\\site-packages\\matplotlib\\axes\\_axes.py:1632\u001b[0m, in \u001b[0;36mAxes.plot\u001b[1;34m(self, scalex, scaley, data, *args, **kwargs)\u001b[0m\n\u001b[0;32m   1390\u001b[0m \u001b[39m\"\"\"\u001b[39;00m\n\u001b[0;32m   1391\u001b[0m \u001b[39mPlot y versus x as lines and/or markers.\u001b[39;00m\n\u001b[0;32m   1392\u001b[0m \n\u001b[1;32m   (...)\u001b[0m\n\u001b[0;32m   1629\u001b[0m \u001b[39m(``'green'``) or hex strings (``'#008000'``).\u001b[39;00m\n\u001b[0;32m   1630\u001b[0m \u001b[39m\"\"\"\u001b[39;00m\n\u001b[0;32m   1631\u001b[0m kwargs \u001b[39m=\u001b[39m cbook\u001b[39m.\u001b[39mnormalize_kwargs(kwargs, mlines\u001b[39m.\u001b[39mLine2D)\n\u001b[1;32m-> 1632\u001b[0m lines \u001b[39m=\u001b[39m [\u001b[39m*\u001b[39m\u001b[39mself\u001b[39m\u001b[39m.\u001b[39m_get_lines(\u001b[39m*\u001b[39margs, data\u001b[39m=\u001b[39mdata, \u001b[39m*\u001b[39m\u001b[39m*\u001b[39mkwargs)]\n\u001b[0;32m   1633\u001b[0m \u001b[39mfor\u001b[39;00m line \u001b[39min\u001b[39;00m lines:\n\u001b[0;32m   1634\u001b[0m     \u001b[39mself\u001b[39m\u001b[39m.\u001b[39madd_line(line)\n",
      "File \u001b[1;32mc:\\Users\\Ammar\\AppData\\Local\\Programs\\Python\\Python310\\lib\\site-packages\\matplotlib\\axes\\_base.py:312\u001b[0m, in \u001b[0;36m_process_plot_var_args.__call__\u001b[1;34m(self, data, *args, **kwargs)\u001b[0m\n\u001b[0;32m    310\u001b[0m     this \u001b[39m+\u001b[39m\u001b[39m=\u001b[39m args[\u001b[39m0\u001b[39m],\n\u001b[0;32m    311\u001b[0m     args \u001b[39m=\u001b[39m args[\u001b[39m1\u001b[39m:]\n\u001b[1;32m--> 312\u001b[0m \u001b[39myield from\u001b[39;00m \u001b[39mself\u001b[39;49m\u001b[39m.\u001b[39;49m_plot_args(this, kwargs)\n",
      "File \u001b[1;32mc:\\Users\\Ammar\\AppData\\Local\\Programs\\Python\\Python310\\lib\\site-packages\\matplotlib\\axes\\_base.py:498\u001b[0m, in \u001b[0;36m_process_plot_var_args._plot_args\u001b[1;34m(self, tup, kwargs, return_kwargs)\u001b[0m\n\u001b[0;32m    495\u001b[0m     \u001b[39mself\u001b[39m\u001b[39m.\u001b[39maxes\u001b[39m.\u001b[39myaxis\u001b[39m.\u001b[39mupdate_units(y)\n\u001b[0;32m    497\u001b[0m \u001b[39mif\u001b[39;00m x\u001b[39m.\u001b[39mshape[\u001b[39m0\u001b[39m] \u001b[39m!=\u001b[39m y\u001b[39m.\u001b[39mshape[\u001b[39m0\u001b[39m]:\n\u001b[1;32m--> 498\u001b[0m     \u001b[39mraise\u001b[39;00m \u001b[39mValueError\u001b[39;00m(\u001b[39mf\u001b[39m\u001b[39m\"\u001b[39m\u001b[39mx and y must have same first dimension, but \u001b[39m\u001b[39m\"\u001b[39m\n\u001b[0;32m    499\u001b[0m                      \u001b[39mf\u001b[39m\u001b[39m\"\u001b[39m\u001b[39mhave shapes \u001b[39m\u001b[39m{\u001b[39;00mx\u001b[39m.\u001b[39mshape\u001b[39m}\u001b[39;00m\u001b[39m and \u001b[39m\u001b[39m{\u001b[39;00my\u001b[39m.\u001b[39mshape\u001b[39m}\u001b[39;00m\u001b[39m\"\u001b[39m)\n\u001b[0;32m    500\u001b[0m \u001b[39mif\u001b[39;00m x\u001b[39m.\u001b[39mndim \u001b[39m>\u001b[39m \u001b[39m2\u001b[39m \u001b[39mor\u001b[39;00m y\u001b[39m.\u001b[39mndim \u001b[39m>\u001b[39m \u001b[39m2\u001b[39m:\n\u001b[0;32m    501\u001b[0m     \u001b[39mraise\u001b[39;00m \u001b[39mValueError\u001b[39;00m(\u001b[39mf\u001b[39m\u001b[39m\"\u001b[39m\u001b[39mx and y can be no greater than 2D, but have \u001b[39m\u001b[39m\"\u001b[39m\n\u001b[0;32m    502\u001b[0m                      \u001b[39mf\u001b[39m\u001b[39m\"\u001b[39m\u001b[39mshapes \u001b[39m\u001b[39m{\u001b[39;00mx\u001b[39m.\u001b[39mshape\u001b[39m}\u001b[39;00m\u001b[39m and \u001b[39m\u001b[39m{\u001b[39;00my\u001b[39m.\u001b[39mshape\u001b[39m}\u001b[39;00m\u001b[39m\"\u001b[39m)\n",
      "\u001b[1;31mValueError\u001b[0m: x and y must have same first dimension, but have shapes (7,) and (1,)"
     ]
    },
    {
     "data": {
      "image/png": "[encoded data removed]",
      "text/plain": [
       "<Figure size 432x288 with 1 Axes>"
      ]
     },
     "metadata": {
      "needs_background": "light"
     },
     "output_type": "display_data"
    }
   ],
   "source": [
    "'''\n",
    "Clearly, with this model, we would get a non-integer number if we were to predict the outcome of x = 30.\n",
    "One thing we could do is to pass horizontal line through the predicted line as a threshold.\n",
    "'''\n",
    "plt.scatter(X_train, y_train, c='green', label='Ground Truth')\n",
    "predictions = (X_train * w + b)\n",
    "plt.plot(X_train, predictions, c='b', label='Best fit line')\n",
    "plt.plot(X_train, np.mean(predictions), c='orange')\n",
    "plt.xlabel('Tumor Size')\n",
    "plt.ylabel('Malignant')\n",
    "plt.plot()"
   ]
  },
  {
   "cell_type": "code",
   "execution_count": null,
   "metadata": {},
   "outputs": [],
   "source": []
  }
 ],
 "metadata": {
  "kernelspec": {
   "display_name": "Python 3.10.5 64-bit",
   "language": "python",
   "name": "python3"
  },
  "language_info": {
   "codemirror_mode": {
    "name": "ipython",
    "version": 3
   },
   "file_extension": ".py",
   "mimetype": "text/x-python",
   "name": "python",
   "nbconvert_exporter": "python",
   "pygments_lexer": "ipython3",
   "version": "3.10.5"
  },
  "orig_nbformat": 4,
  "vscode": {
   "interpreter": {
    "hash": "7c2737f5cd3eb6a237b7123ce75c641d6f975db18b0c0702ad2055474d78171c"
   }
  }
 },
 "nbformat": 4,
 "nbformat_minor": 2
}
