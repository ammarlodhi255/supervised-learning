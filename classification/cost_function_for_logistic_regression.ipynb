{
 "cells": [
  {
   "cell_type": "code",
   "execution_count": 4,
   "metadata": {},
   "outputs": [],
   "source": [
    "import numpy as np\n",
    "import matplotlib.pyplot as plt\n",
    "import math"
   ]
  },
  {
   "cell_type": "markdown",
   "metadata": {},
   "source": [
    "$$f_{w,b}(x^{(i)}) = sigmoid(wx^{(i)} + b )$$\n",
    "\n",
    "$$J(w,b) = \\frac{1}{2m} \\sum\\limits_{i = 0}^{m-1} loss(f_{\\mathbf{w},b}(\\mathbf{x}^{(i)}), y^{(i)}) $$ \n",
    "\n",
    "* $loss(f_{\\mathbf{w},b}(\\mathbf{x}^{(i)}), y^{(i)})$ is the cost for a single data point, which is:\n",
    "\n",
    "\\begin{equation}\n",
    "  loss(f_{\\mathbf{w},b}(\\mathbf{x}^{(i)}), y^{(i)}) = \\begin{cases}\n",
    "    - \\log\\left(f_{\\mathbf{w},b}\\left( \\mathbf{x}^{(i)} \\right) \\right) & \\text{if $y^{(i)}=1$}\\\\\n",
    "    - \\log \\left( 1 - f_{\\mathbf{w},b}\\left( \\mathbf{x}^{(i)} \\right) \\right) & \\text{if $y^{(i)}=0$}\n",
    "  \\end{cases}\n",
    "\\end{equation}\n",
    "\n",
    "\n",
    "*  $f_{\\mathbf{w},b}(\\mathbf{x}^{(i)})$ is the model's prediction, while $y^{(i)}$ is the target value.\n",
    "\n",
    "*  $f_{\\mathbf{w},b}(\\mathbf{x}^{(i)}) = g(\\mathbf{w} \\cdot\\mathbf{x}^{(i)}+b)$ where function $g$ is the sigmoid function.\n"
   ]
  },
  {
   "cell_type": "code",
   "execution_count": 31,
   "metadata": {},
   "outputs": [
    {
     "name": "stdout",
     "output_type": "stream",
     "text": [
      "Actual target value of x[0]: 0, sigmoid(x[0]): 0.52497918747894\n",
      "Actual target value of x[1]: 0, sigmoid(x[1]): 0.549833997312478\n",
      "Actual target value of x[2]: 1, sigmoid(x[2]): 0.574442516811659\n",
      "Actual target value of x[3]: 1, sigmoid(x[3]): 0.598687660112452\n"
     ]
    },
    {
     "data": {
      "text/plain": [
       "2.6099060263236424"
      ]
     },
     "execution_count": 31,
     "metadata": {},
     "output_type": "execute_result"
    }
   ],
   "source": [
    "def sigmoid(z):\n",
    "    return 1 / (1 + np.exp(-z))\n",
    "\n",
    "def f(x, w, b):\n",
    "    return x * w + b\n",
    " \n",
    "def cost(x, y, w, b):\n",
    "    cost_sum = 0\n",
    "    m = x.shape[0]\n",
    "\n",
    "    for i in range(m):\n",
    "        fwb = sigmoid(f(x[i], w, b))\n",
    "\n",
    "        if y[i]:\n",
    "            cost_sum += -np.log(fwb)\n",
    "        else:\n",
    "            cost_sum += -np.log(1 - fwb)\n",
    "\n",
    "        print(f'Actual target value of x[{i}]: {y[i]}, sigmoid(x[{i}]): {fwb}')\n",
    "    \n",
    "    cost_sum / m\n",
    "    return cost_sum\n",
    "\n",
    "x = np.arange(1, 5)\n",
    "y = np.array([0, 0, 1, 1])\n",
    "cost(x, y, 0.1, 0)"
   ]
  },
  {
   "cell_type": "code",
   "execution_count": 38,
   "metadata": {},
   "outputs": [
    {
     "name": "stdout",
     "output_type": "stream",
     "text": [
      "Actual target value of x[0]: 0, sigmoid(x[0]): 0.00012339457598623172\n",
      "Actual target value of x[1]: 0, sigmoid(x[1]): 5.602796406145941e-09\n",
      "Actual target value of x[2]: 1, sigmoid(x[2]): 2.543665647376276e-13\n",
      "Actual target value of x[3]: 1, sigmoid(x[3]): 1.1548224173015786e-17\n",
      "Actual target value of x[0]: 0, sigmoid(x[0]): 0.0003353501304664781\n",
      "Actual target value of x[1]: 0, sigmoid(x[1]): 4.1399375473943306e-08\n",
      "Actual target value of x[2]: 1, sigmoid(x[2]): 5.109089028037221e-12\n",
      "Actual target value of x[3]: 1, sigmoid(x[3]): 6.305116760146985e-16\n",
      "Actual target value of x[0]: 0, sigmoid(x[0]): 0.0009110511944006454\n",
      "Actual target value of x[1]: 0, sigmoid(x[1]): 3.059022269256247e-07\n",
      "Actual target value of x[2]: 1, sigmoid(x[2]): 1.0261879630648827e-10\n",
      "Actual target value of x[3]: 1, sigmoid(x[3]): 3.442477108469858e-14\n",
      "Actual target value of x[0]: 0, sigmoid(x[0]): 0.0024726231566347743\n",
      "Actual target value of x[1]: 0, sigmoid(x[1]): 2.2603242979035746e-06\n",
      "Actual target value of x[2]: 1, sigmoid(x[2]): 2.0611536181902037e-09\n",
      "Actual target value of x[3]: 1, sigmoid(x[3]): 1.8795288165355508e-12\n",
      "Actual target value of x[0]: 0, sigmoid(x[0]): 0.0066928509242848554\n",
      "Actual target value of x[1]: 0, sigmoid(x[1]): 1.670142184809518e-05\n",
      "Actual target value of x[2]: 1, sigmoid(x[2]): 4.1399375473943306e-08\n",
      "Actual target value of x[3]: 1, sigmoid(x[3]): 1.0261879630648827e-10\n",
      "Actual target value of x[0]: 0, sigmoid(x[0]): 0.01798620996209156\n",
      "Actual target value of x[1]: 0, sigmoid(x[1]): 0.00012339457598623172\n",
      "Actual target value of x[2]: 1, sigmoid(x[2]): 8.315280276641321e-07\n",
      "Actual target value of x[3]: 1, sigmoid(x[3]): 5.602796406145941e-09\n",
      "Actual target value of x[0]: 0, sigmoid(x[0]): 0.04742587317756678\n",
      "Actual target value of x[1]: 0, sigmoid(x[1]): 0.0009110511944006454\n",
      "Actual target value of x[2]: 1, sigmoid(x[2]): 1.670142184809518e-05\n",
      "Actual target value of x[3]: 1, sigmoid(x[3]): 3.059022269256247e-07\n",
      "Actual target value of x[0]: 0, sigmoid(x[0]): 0.11920292202211755\n",
      "Actual target value of x[1]: 0, sigmoid(x[1]): 0.0066928509242848554\n",
      "Actual target value of x[2]: 1, sigmoid(x[2]): 0.0003353501304664781\n",
      "Actual target value of x[3]: 1, sigmoid(x[3]): 1.670142184809518e-05\n",
      "Actual target value of x[0]: 0, sigmoid(x[0]): 0.2689414213699951\n",
      "Actual target value of x[1]: 0, sigmoid(x[1]): 0.04742587317756678\n",
      "Actual target value of x[2]: 1, sigmoid(x[2]): 0.0066928509242848554\n",
      "Actual target value of x[3]: 1, sigmoid(x[3]): 0.0009110511944006454\n",
      "Actual target value of x[0]: 0, sigmoid(x[0]): 0.5\n",
      "Actual target value of x[1]: 0, sigmoid(x[1]): 0.2689414213699951\n",
      "Actual target value of x[2]: 1, sigmoid(x[2]): 0.11920292202211755\n",
      "Actual target value of x[3]: 1, sigmoid(x[3]): 0.04742587317756678\n",
      "Actual target value of x[0]: 0, sigmoid(x[0]): 0.7310585786300049\n",
      "Actual target value of x[1]: 0, sigmoid(x[1]): 0.7310585786300049\n",
      "Actual target value of x[2]: 1, sigmoid(x[2]): 0.7310585786300049\n",
      "Actual target value of x[3]: 1, sigmoid(x[3]): 0.7310585786300049\n",
      "Actual target value of x[0]: 0, sigmoid(x[0]): 0.8807970779778823\n",
      "Actual target value of x[1]: 0, sigmoid(x[1]): 0.9525741268224334\n",
      "Actual target value of x[2]: 1, sigmoid(x[2]): 0.9820137900379085\n",
      "Actual target value of x[3]: 1, sigmoid(x[3]): 0.9933071490757153\n",
      "Actual target value of x[0]: 0, sigmoid(x[0]): 0.9525741268224334\n",
      "Actual target value of x[1]: 0, sigmoid(x[1]): 0.9933071490757153\n",
      "Actual target value of x[2]: 1, sigmoid(x[2]): 0.9990889488055994\n",
      "Actual target value of x[3]: 1, sigmoid(x[3]): 0.9998766054240137\n",
      "Actual target value of x[0]: 0, sigmoid(x[0]): 0.9820137900379085\n",
      "Actual target value of x[1]: 0, sigmoid(x[1]): 0.9990889488055994\n",
      "Actual target value of x[2]: 1, sigmoid(x[2]): 0.9999546021312976\n",
      "Actual target value of x[3]: 1, sigmoid(x[3]): 0.999997739675702\n",
      "Actual target value of x[0]: 0, sigmoid(x[0]): 0.9933071490757153\n",
      "Actual target value of x[1]: 0, sigmoid(x[1]): 0.9998766054240137\n",
      "Actual target value of x[2]: 1, sigmoid(x[2]): 0.999997739675702\n",
      "Actual target value of x[3]: 1, sigmoid(x[3]): 0.9999999586006244\n",
      "Actual target value of x[0]: 0, sigmoid(x[0]): 0.9975273768433653\n",
      "Actual target value of x[1]: 0, sigmoid(x[1]): 0.999983298578152\n",
      "Actual target value of x[2]: 1, sigmoid(x[2]): 0.9999998874648379\n",
      "Actual target value of x[3]: 1, sigmoid(x[3]): 0.9999999992417439\n",
      "Actual target value of x[0]: 0, sigmoid(x[0]): 0.9990889488055994\n",
      "Actual target value of x[1]: 0, sigmoid(x[1]): 0.999997739675702\n",
      "Actual target value of x[2]: 1, sigmoid(x[2]): 0.9999999943972036\n",
      "Actual target value of x[3]: 1, sigmoid(x[3]): 0.999999999986112\n",
      "Actual target value of x[0]: 0, sigmoid(x[0]): 0.9996646498695336\n",
      "Actual target value of x[1]: 0, sigmoid(x[1]): 0.999999694097773\n",
      "Actual target value of x[2]: 1, sigmoid(x[2]): 0.9999999997210531\n",
      "Actual target value of x[3]: 1, sigmoid(x[3]): 0.9999999999997455\n",
      "Actual target value of x[0]: 0, sigmoid(x[0]): 0.9998766054240137\n",
      "Actual target value of x[1]: 0, sigmoid(x[1]): 0.9999999586006244\n",
      "Actual target value of x[2]: 1, sigmoid(x[2]): 0.999999999986112\n",
      "Actual target value of x[3]: 1, sigmoid(x[3]): 0.9999999999999953\n",
      "Actual target value of x[0]: 0, sigmoid(x[0]): 0.9999546021312976\n",
      "Actual target value of x[1]: 0, sigmoid(x[1]): 0.9999999943972036\n",
      "Actual target value of x[2]: 1, sigmoid(x[2]): 0.9999999999993086\n",
      "Actual target value of x[3]: 1, sigmoid(x[3]): 1.0\n",
      "Actual target value of x[0]: 0, sigmoid(x[0]): 0.999983298578152\n",
      "Actual target value of x[1]: 0, sigmoid(x[1]): 0.9999999992417439\n",
      "Actual target value of x[2]: 1, sigmoid(x[2]): 0.9999999999999656\n",
      "Actual target value of x[3]: 1, sigmoid(x[3]): 1.0\n",
      "Actual target value of x[0]: 0, sigmoid(x[0]): 0.9999938558253978\n",
      "Actual target value of x[1]: 0, sigmoid(x[1]): 0.9999999998973812\n",
      "Actual target value of x[2]: 1, sigmoid(x[2]): 0.9999999999999982\n",
      "Actual target value of x[3]: 1, sigmoid(x[3]): 1.0\n",
      "Actual target value of x[0]: 0, sigmoid(x[0]): 0.999997739675702\n",
      "Actual target value of x[1]: 0, sigmoid(x[1]): 0.999999999986112\n",
      "Actual target value of x[2]: 1, sigmoid(x[2]): 1.0\n",
      "Actual target value of x[3]: 1, sigmoid(x[3]): 1.0\n",
      "Actual target value of x[0]: 0, sigmoid(x[0]): 0.9999991684719722\n",
      "Actual target value of x[1]: 0, sigmoid(x[1]): 0.9999999999981204\n",
      "Actual target value of x[2]: 1, sigmoid(x[2]): 1.0\n",
      "Actual target value of x[3]: 1, sigmoid(x[3]): 1.0\n",
      "Actual target value of x[0]: 0, sigmoid(x[0]): 0.999999694097773\n",
      "Actual target value of x[1]: 0, sigmoid(x[1]): 0.9999999999997455\n",
      "Actual target value of x[2]: 1, sigmoid(x[2]): 1.0\n",
      "Actual target value of x[3]: 1, sigmoid(x[3]): 1.0\n"
     ]
    },
    {
     "data": {
      "image/png": "[encoded data removed]",
      "text/plain": [
       "<Figure size 432x288 with 1 Axes>"
      ]
     },
     "metadata": {
      "needs_background": "light"
     },
     "output_type": "display_data"
    }
   ],
   "source": [
    "W = np.arange(-10, 15)\n",
    "costs = np.zeros(W.shape[0])\n",
    "\n",
    "for i in range(W.shape[0]):\n",
    "    costs[i] = cost(x, y, W[i], 1)\n",
    "\n",
    "plt.plot(W, costs)\n",
    "plt.xlabel('W')\n",
    "plt.ylabel('Cost')\n",
    "plt.show()"
   ]
  }
 ],
 "metadata": {
  "kernelspec": {
   "display_name": "Python 3.10.5 64-bit",
   "language": "python",
   "name": "python3"
  },
  "language_info": {
   "codemirror_mode": {
    "name": "ipython",
    "version": 3
   },
   "file_extension": ".py",
   "mimetype": "text/x-python",
   "name": "python",
   "nbconvert_exporter": "python",
   "pygments_lexer": "ipython3",
   "version": "3.10.5"
  },
  "orig_nbformat": 4,
  "vscode": {
   "interpreter": {
    "hash": "7c2737f5cd3eb6a237b7123ce75c641d6f975db18b0c0702ad2055474d78171c"
   }
  }
 },
 "nbformat": 4,
 "nbformat_minor": 2
}
