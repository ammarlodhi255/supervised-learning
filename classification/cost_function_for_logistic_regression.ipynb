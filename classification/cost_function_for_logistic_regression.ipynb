{
 "cells": [
  {
   "cell_type": "code",
   "execution_count": 4,
   "metadata": {},
   "outputs": [],
   "source": [
    "import numpy as np\n",
    "import matplotlib.pyplot as plt\n",
    "import math"
   ]
  },
  {
   "cell_type": "markdown",
   "metadata": {},
   "source": [
    "$$f_{w,b}(x^{(i)}) = sigmoid(wx^{(i)} + b )$$\n",
    "\n",
    "$$J(w,b) = \\frac{1}{2m} \\sum\\limits_{i = 0}^{m-1} loss(f_{\\mathbf{w},b}(\\mathbf{x}^{(i)}), y^{(i)}) $$ \n",
    "\n",
    "* $loss(f_{\\mathbf{w},b}(\\mathbf{x}^{(i)}), y^{(i)})$ is the cost for a single data point, which is:\n",
    "\n",
    "\\begin{equation}\n",
    "  loss(f_{\\mathbf{w},b}(\\mathbf{x}^{(i)}), y^{(i)}) = \\begin{cases}\n",
    "    - \\log\\left(f_{\\mathbf{w},b}\\left( \\mathbf{x}^{(i)} \\right) \\right) & \\text{if $y^{(i)}=1$}\\\\\n",
    "    - \\log \\left( 1 - f_{\\mathbf{w},b}\\left( \\mathbf{x}^{(i)} \\right) \\right) & \\text{if $y^{(i)}=0$}\n",
    "  \\end{cases}\n",
    "\\end{equation}\n",
    "\n",
    "\n",
    "*  $f_{\\mathbf{w},b}(\\mathbf{x}^{(i)})$ is the model's prediction, while $y^{(i)}$ is the target value.\n",
    "\n",
    "*  $f_{\\mathbf{w},b}(\\mathbf{x}^{(i)}) = g(\\mathbf{w} \\cdot\\mathbf{x}^{(i)}+b)$ where function $g$ is the sigmoid function.\n"
   ]
  },
  {
   "cell_type": "code",
   "execution_count": 31,
   "metadata": {},
   "outputs": [
    {
     "name": "stdout",
     "output_type": "stream",
     "text": [
      "Actual target value of x[0]: 0, sigmoid(x[0]): 0.52497918747894\n",
      "Actual target value of x[1]: 0, sigmoid(x[1]): 0.549833997312478\n",
      "Actual target value of x[2]: 1, sigmoid(x[2]): 0.574442516811659\n",
      "Actual target value of x[3]: 1, sigmoid(x[3]): 0.598687660112452\n"
     ]
    },
    {
     "data": {
      "text/plain": [
       "2.6099060263236424"
      ]
     },
     "execution_count": 31,
     "metadata": {},
     "output_type": "execute_result"
    }
   ],
   "source": [
    "def sigmoid(z):\n",
    "    return 1 / (1 + np.exp(-z))\n",
    "\n",
    "def f(x, w, b):\n",
    "    return x * w + b\n",
    " \n",
    "def cost(x, y, w, b):\n",
    "    cost_sum = 0\n",
    "    m = x.shape[0]\n",
    "\n",
    "    for i in range(m):\n",
    "        fwb = sigmoid(f(x[i], w, b))\n",
    "\n",
    "        if y[i]:\n",
    "            cost_sum += -np.log(fwb)\n",
    "        else:\n",
    "            cost_sum += -np.log(1 - fwb)\n",
    "\n",
    "        print(f'Actual target value of x[{i}]: {y[i]}, sigmoid(x[{i}]): {fwb}')\n",
    "    \n",
    "    cost_sum / m\n",
    "    return cost_sum\n",
    "\n",
    "x = np.arange(1, 5)\n",
    "y = np.array([0, 0, 1, 1])\n",
    "cost(x, y, 0.1, 0)"
   ]
  }
 ],
 "metadata": {
  "kernelspec": {
   "display_name": "Python 3.10.5 64-bit",
   "language": "python",
   "name": "python3"
  },
  "language_info": {
   "codemirror_mode": {
    "name": "ipython",
    "version": 3
   },
   "file_extension": ".py",
   "mimetype": "text/x-python",
   "name": "python",
   "nbconvert_exporter": "python",
   "pygments_lexer": "ipython3",
   "version": "3.10.5"
  },
  "orig_nbformat": 4,
  "vscode": {
   "interpreter": {
    "hash": "7c2737f5cd3eb6a237b7123ce75c641d6f975db18b0c0702ad2055474d78171c"
   }
  }
 },
 "nbformat": 4,
 "nbformat_minor": 2
}
