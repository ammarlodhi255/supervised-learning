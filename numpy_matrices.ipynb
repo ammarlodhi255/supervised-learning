{
 "cells": [
  {
   "cell_type": "code",
   "execution_count": 6,
   "metadata": {},
   "outputs": [
    {
     "name": "stdout",
     "output_type": "stream",
     "text": [
      "a = [[0.]\n",
      " [0.]\n",
      " [0.]\n",
      " [0.]\n",
      " [0.]], a.shape = (5, 1)\n",
      "b = [[0. 0. 0. 0. 0.]], b.shape = (1, 5)\n",
      "c = [[1]\n",
      " [2]\n",
      " [3]], c.shape = (3, 1)\n"
     ]
    }
   ],
   "source": [
    "import numpy as np\n",
    "\n",
    "a = np.zeros((5, 1))\n",
    "print(f'a = {a}, a.shape = {a.shape}')\n",
    "\n",
    "b = np.zeros((1, 5))\n",
    "print(f'b = {b}, b.shape = {b.shape}')\n",
    "\n",
    "# User specified values:\n",
    "c = np.array([\n",
    "    [1], \n",
    "    [2], \n",
    "    [3]])\n",
    "\n",
    "print(f'c = {c}, c.shape = {c.shape}')"
   ]
  },
  {
   "cell_type": "code",
   "execution_count": 17,
   "metadata": {},
   "outputs": [
    {
     "name": "stdout",
     "output_type": "stream",
     "text": [
      "a = [[0 1]\n",
      " [2 3]\n",
      " [4 5]\n",
      " [6 7]\n",
      " [8 9]], a.shape = (5, 2)\n"
     ]
    }
   ],
   "source": [
    "# Operations on matrices\n",
    "\n",
    "# reshape is a convenient way to create matrices\n",
    "a = np.arange(10).reshape(-1, 2)\n",
    "print(f'a = {a}, a.shape = {a.shape}')"
   ]
  },
  {
   "cell_type": "markdown",
   "metadata": {},
   "source": [
    "**Reshape**  \n",
    "The previous example used [reshape](https://numpy.org/doc/stable/reference/generated/numpy.reshape.html) to shape the array.  \n",
    "`a = np.arange(6).reshape(-1, 2) `   \n",
    "This line of code first created a *1-D Vector* of six elements. It then reshaped that vector into a *2-D* array using the reshape command. This could have been written:  \n",
    "`a = np.arange(6).reshape(3, 2) `  \n",
    "To arrive at the same 3 row, 2 column array.\n",
    "The -1 argument tells the routine to compute the number of rows given the size of the array and the number of columns."
   ]
  },
  {
   "cell_type": "code",
   "execution_count": 19,
   "metadata": {},
   "outputs": [
    {
     "name": "stdout",
     "output_type": "stream",
     "text": [
      "a[0, 1] = 1\n",
      "a[1, 1] = 3\n",
      "a[3, 0] = 6\n",
      "a[4, 1] = 9\n"
     ]
    }
   ],
   "source": [
    "# Access an element:\n",
    "\n",
    "print(f'a[0, 1] = {a[0, 1]}')\n",
    "print(f'a[1, 1] = {a[1, 1]}')\n",
    "print(f'a[3, 0] = {a[3, 0]}')\n",
    "print(f'a[4, 1] = {a[4, 1]}')"
   ]
  },
  {
   "cell_type": "code",
   "execution_count": null,
   "metadata": {},
   "outputs": [],
   "source": []
  }
 ],
 "metadata": {
  "kernelspec": {
   "display_name": "Python 3.10.5 64-bit",
   "language": "python",
   "name": "python3"
  },
  "language_info": {
   "codemirror_mode": {
    "name": "ipython",
    "version": 3
   },
   "file_extension": ".py",
   "mimetype": "text/x-python",
   "name": "python",
   "nbconvert_exporter": "python",
   "pygments_lexer": "ipython3",
   "version": "3.10.5"
  },
  "orig_nbformat": 4,
  "vscode": {
   "interpreter": {
    "hash": "7c2737f5cd3eb6a237b7123ce75c641d6f975db18b0c0702ad2055474d78171c"
   }
  }
 },
 "nbformat": 4,
 "nbformat_minor": 2
}
